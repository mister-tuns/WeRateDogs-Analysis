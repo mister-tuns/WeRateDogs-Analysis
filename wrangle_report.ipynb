{
 "cells": [
  {
   "cell_type": "markdown",
   "metadata": {},
   "source": [
    "## Wrangle_Report"
   ]
  },
  {
   "cell_type": "markdown",
   "metadata": {},
   "source": [
    "## Data Gathering\n",
    "\n",
    "The datasets used in this analysis were gathered from various sources:\n",
    "\n",
    "1. File on hand: This was the main file used in this project. It contains tweet archives from WeRateDogs' twitter account. This was provided in the project class room. The file was downloaded manually and loaded into a pandas dataframe for further analysis.\n",
    "2. URL: The url was provided in the project classroom and was downloaded programmatically using the requests library. It contains data about image predictions of the rated dogs based on an algorithm.\n",
    "3. Json File: This was downloaded from the classroom although i tried to access Twitter's API directly but this proved unsuccessful. It contains data on retweet and favourite count for the original tweets.\n",
    "\n",
    "## Assessing\n",
    "\n",
    "The data was assessed both visually and programmatically. Several issues were found. The issues below were addressed in this analysis:\n",
    "\n",
    "### Quality Issues\n",
    "\n",
    "1. in_reply_to_status_id, in_reply_to_user_id, retweeted_status_id, retweeted_status_user_id and retweeted_status_timestamp columns contain data about retweets which are not very useful for this analysis hence will be dropped. Additionally, they contain missing values. The focus of this analysis is on orginal ratings.\n",
    "\n",
    "2. timestamp object should be data type - datetime not object.\n",
    "\n",
    "3. Going through the text column, some reviews were not about dogs. This will need to be removed as they are not valid for the purpose of this analysis.\n",
    "\n",
    "4. Going through the source column, the tags are included in the tweet source, it may be important to extraxt the source only.\n",
    "\n",
    "5. The dog ratings need to be properly extracted from the text column as there are a few outliers in the rating_numerator column.\n",
    "\n",
    "6. The dog stages columns contain a lot of values with string 'none'. This is not helpful to this analysis and will be converted to null values\n",
    "\n",
    "7. The rating denominator column is redundant as it is stated in the project guidance that the ratings are almost always over 10 Hence this will be dropped for the purpose of this analysis.\n",
    "\n",
    "8. expanded_url column will be dropped as they are not very useful for the purpose of this analysis\n",
    "\n",
    "### Tidiness Issues\n",
    "\n",
    "1. The p1, p2, p3, p1_conf, p2_conf, p3 conf, p1_dog, p2_dog and p3_dog consists of basically two variables that are useful to our analysis - The breed and the confidence level. The pictures that couldnt be recognised as dogs can be assigned values none to simplify the structure of the table and facilitate merging with other datasets in this analysis.\n",
    "\n",
    "2. The dog stages columns in the twitter_archive dataset can be restructured into a single column.\n",
    "\n",
    "3. The three datasets gathered for this analysis can be combined into one for deeper insights.\n",
    "\n",
    "## Data Cleaning\n",
    "\n",
    "A copy of the data files were made before cleaning began. All issues were cleaned using relevant functions and the rationale behind using each function was documented in the analysis file. The three datasets were merged into a master dataset before exploration and visualization\n",
    "\n",
    "## Storage\n",
    "\n",
    "The Master file was saved as twitter_archive_master.csv in the working directory of this workspace for future reference."
   ]
  }
 ],
 "metadata": {
  "kernelspec": {
   "display_name": "Python 3",
   "language": "python",
   "name": "python3"
  },
  "language_info": {
   "codemirror_mode": {
    "name": "ipython",
    "version": 3
   },
   "file_extension": ".py",
   "mimetype": "text/x-python",
   "name": "python",
   "nbconvert_exporter": "python",
   "pygments_lexer": "ipython3",
   "version": "3.6.3"
  }
 },
 "nbformat": 4,
 "nbformat_minor": 2
}
