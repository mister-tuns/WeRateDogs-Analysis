{
 "cells": [
  {
   "cell_type": "markdown",
   "metadata": {
    "extensions": {
     "jupyter_dashboards": {
      "version": 1,
      "views": {
       "grid_default": {
        "col": 0,
        "height": 4,
        "hidden": false,
        "row": 0,
        "width": 4
       },
       "report_default": {
        "hidden": false
       }
      }
     }
    }
   },
   "source": [
    "# Project: Wrangling and Analyze Data - WeRateDogs"
   ]
  },
  {
   "cell_type": "code",
   "execution_count": 1,
   "metadata": {
    "extensions": {
     "jupyter_dashboards": {
      "version": 1,
      "views": {
       "grid_default": {
        "hidden": true
       },
       "report_default": {
        "hidden": true
       }
      }
     }
    }
   },
   "outputs": [],
   "source": [
    "import pandas as pd\n",
    "import requests\n",
    "import numpy as np\n",
    "import tweepy\n",
    "import json\n",
    "import os\n",
    "import matplotlib.pyplot as plt\n",
    "%matplotlib inline"
   ]
  },
  {
   "cell_type": "code",
   "execution_count": 2,
   "metadata": {},
   "outputs": [],
   "source": [
    "# the twitter_archive_enhanced.csv file was downloaded from the link provided in -\n",
    "# the project lesson and read into a dataframe using the code below:\n",
    "df = pd.read_csv('twitter-archive-enhanced.csv')"
   ]
  },
  {
   "cell_type": "code",
   "execution_count": 3,
   "metadata": {},
   "outputs": [
    {
     "name": "stdout",
     "output_type": "stream",
     "text": [
      "<class 'pandas.core.frame.DataFrame'>\n",
      "RangeIndex: 2356 entries, 0 to 2355\n",
      "Data columns (total 17 columns):\n",
      "tweet_id                      2356 non-null int64\n",
      "in_reply_to_status_id         78 non-null float64\n",
      "in_reply_to_user_id           78 non-null float64\n",
      "timestamp                     2356 non-null object\n",
      "source                        2356 non-null object\n",
      "text                          2356 non-null object\n",
      "retweeted_status_id           181 non-null float64\n",
      "retweeted_status_user_id      181 non-null float64\n",
      "retweeted_status_timestamp    181 non-null object\n",
      "expanded_urls                 2297 non-null object\n",
      "rating_numerator              2356 non-null int64\n",
      "rating_denominator            2356 non-null int64\n",
      "name                          2356 non-null object\n",
      "doggo                         2356 non-null object\n",
      "floofer                       2356 non-null object\n",
      "pupper                        2356 non-null object\n",
      "puppo                         2356 non-null object\n",
      "dtypes: float64(4), int64(3), object(10)\n",
      "memory usage: 313.0+ KB\n"
     ]
    }
   ],
   "source": [
    "#summarized information about the twitter archive dateset\n",
    "df.info()"
   ]
  },
  {
   "cell_type": "code",
   "execution_count": 4,
   "metadata": {},
   "outputs": [
    {
     "data": {
      "text/html": [
       "<div>\n",
       "<style scoped>\n",
       "    .dataframe tbody tr th:only-of-type {\n",
       "        vertical-align: middle;\n",
       "    }\n",
       "\n",
       "    .dataframe tbody tr th {\n",
       "        vertical-align: top;\n",
       "    }\n",
       "\n",
       "    .dataframe thead th {\n",
       "        text-align: right;\n",
       "    }\n",
       "</style>\n",
       "<table border=\"1\" class=\"dataframe\">\n",
       "  <thead>\n",
       "    <tr style=\"text-align: right;\">\n",
       "      <th></th>\n",
       "      <th>tweet_id</th>\n",
       "      <th>in_reply_to_status_id</th>\n",
       "      <th>in_reply_to_user_id</th>\n",
       "      <th>timestamp</th>\n",
       "      <th>source</th>\n",
       "      <th>text</th>\n",
       "      <th>retweeted_status_id</th>\n",
       "      <th>retweeted_status_user_id</th>\n",
       "      <th>retweeted_status_timestamp</th>\n",
       "      <th>expanded_urls</th>\n",
       "      <th>rating_numerator</th>\n",
       "      <th>rating_denominator</th>\n",
       "      <th>name</th>\n",
       "      <th>doggo</th>\n",
       "      <th>floofer</th>\n",
       "      <th>pupper</th>\n",
       "      <th>puppo</th>\n",
       "    </tr>\n",
       "  </thead>\n",
       "  <tbody>\n",
       "    <tr>\n",
       "      <th>921</th>\n",
       "      <td>756288534030475264</td>\n",
       "      <td>NaN</td>\n",
       "      <td>NaN</td>\n",
       "      <td>2016-07-22 00:43:32 +0000</td>\n",
       "      <td>&lt;a href=\"http://twitter.com/download/iphone\" r...</td>\n",
       "      <td>Here's a heartwarming scene of a single father...</td>\n",
       "      <td>NaN</td>\n",
       "      <td>NaN</td>\n",
       "      <td>NaN</td>\n",
       "      <td>https://twitter.com/dog_rates/status/756288534...</td>\n",
       "      <td>12</td>\n",
       "      <td>10</td>\n",
       "      <td>None</td>\n",
       "      <td>None</td>\n",
       "      <td>None</td>\n",
       "      <td>None</td>\n",
       "      <td>None</td>\n",
       "    </tr>\n",
       "    <tr>\n",
       "      <th>1814</th>\n",
       "      <td>676617503762681856</td>\n",
       "      <td>NaN</td>\n",
       "      <td>NaN</td>\n",
       "      <td>2015-12-15 04:19:18 +0000</td>\n",
       "      <td>&lt;a href=\"http://twitter.com/download/iphone\" r...</td>\n",
       "      <td>I promise this wasn't meant to be a cuteness o...</td>\n",
       "      <td>NaN</td>\n",
       "      <td>NaN</td>\n",
       "      <td>NaN</td>\n",
       "      <td>https://twitter.com/dog_rates/status/676617503...</td>\n",
       "      <td>13</td>\n",
       "      <td>10</td>\n",
       "      <td>None</td>\n",
       "      <td>None</td>\n",
       "      <td>None</td>\n",
       "      <td>pupper</td>\n",
       "      <td>None</td>\n",
       "    </tr>\n",
       "    <tr>\n",
       "      <th>967</th>\n",
       "      <td>750381685133418496</td>\n",
       "      <td>7.501805e+17</td>\n",
       "      <td>4.717297e+09</td>\n",
       "      <td>2016-07-05 17:31:49 +0000</td>\n",
       "      <td>&lt;a href=\"http://twitter.com/download/iphone\" r...</td>\n",
       "      <td>13/10 such a good doggo\\n@spaghemily</td>\n",
       "      <td>NaN</td>\n",
       "      <td>NaN</td>\n",
       "      <td>NaN</td>\n",
       "      <td>NaN</td>\n",
       "      <td>13</td>\n",
       "      <td>10</td>\n",
       "      <td>None</td>\n",
       "      <td>doggo</td>\n",
       "      <td>None</td>\n",
       "      <td>None</td>\n",
       "      <td>None</td>\n",
       "    </tr>\n",
       "    <tr>\n",
       "      <th>2295</th>\n",
       "      <td>667119796878725120</td>\n",
       "      <td>NaN</td>\n",
       "      <td>NaN</td>\n",
       "      <td>2015-11-18 23:18:48 +0000</td>\n",
       "      <td>&lt;a href=\"http://twitter.com/download/iphone\" r...</td>\n",
       "      <td>This is Gabe. He is a southern Baklava. Gabe h...</td>\n",
       "      <td>NaN</td>\n",
       "      <td>NaN</td>\n",
       "      <td>NaN</td>\n",
       "      <td>https://twitter.com/dog_rates/status/667119796...</td>\n",
       "      <td>10</td>\n",
       "      <td>10</td>\n",
       "      <td>Gabe</td>\n",
       "      <td>None</td>\n",
       "      <td>None</td>\n",
       "      <td>None</td>\n",
       "      <td>None</td>\n",
       "    </tr>\n",
       "    <tr>\n",
       "      <th>875</th>\n",
       "      <td>761227390836215808</td>\n",
       "      <td>NaN</td>\n",
       "      <td>NaN</td>\n",
       "      <td>2016-08-04 15:48:47 +0000</td>\n",
       "      <td>&lt;a href=\"http://twitter.com/download/iphone\" r...</td>\n",
       "      <td>This is Albert. He just found out that bees ar...</td>\n",
       "      <td>NaN</td>\n",
       "      <td>NaN</td>\n",
       "      <td>NaN</td>\n",
       "      <td>https://twitter.com/dog_rates/status/761227390...</td>\n",
       "      <td>10</td>\n",
       "      <td>10</td>\n",
       "      <td>Albert</td>\n",
       "      <td>None</td>\n",
       "      <td>None</td>\n",
       "      <td>None</td>\n",
       "      <td>None</td>\n",
       "    </tr>\n",
       "  </tbody>\n",
       "</table>\n",
       "</div>"
      ],
      "text/plain": [
       "                tweet_id  in_reply_to_status_id  in_reply_to_user_id  \\\n",
       "921   756288534030475264                    NaN                  NaN   \n",
       "1814  676617503762681856                    NaN                  NaN   \n",
       "967   750381685133418496           7.501805e+17         4.717297e+09   \n",
       "2295  667119796878725120                    NaN                  NaN   \n",
       "875   761227390836215808                    NaN                  NaN   \n",
       "\n",
       "                      timestamp  \\\n",
       "921   2016-07-22 00:43:32 +0000   \n",
       "1814  2015-12-15 04:19:18 +0000   \n",
       "967   2016-07-05 17:31:49 +0000   \n",
       "2295  2015-11-18 23:18:48 +0000   \n",
       "875   2016-08-04 15:48:47 +0000   \n",
       "\n",
       "                                                 source  \\\n",
       "921   <a href=\"http://twitter.com/download/iphone\" r...   \n",
       "1814  <a href=\"http://twitter.com/download/iphone\" r...   \n",
       "967   <a href=\"http://twitter.com/download/iphone\" r...   \n",
       "2295  <a href=\"http://twitter.com/download/iphone\" r...   \n",
       "875   <a href=\"http://twitter.com/download/iphone\" r...   \n",
       "\n",
       "                                                   text  retweeted_status_id  \\\n",
       "921   Here's a heartwarming scene of a single father...                  NaN   \n",
       "1814  I promise this wasn't meant to be a cuteness o...                  NaN   \n",
       "967                13/10 such a good doggo\\n@spaghemily                  NaN   \n",
       "2295  This is Gabe. He is a southern Baklava. Gabe h...                  NaN   \n",
       "875   This is Albert. He just found out that bees ar...                  NaN   \n",
       "\n",
       "      retweeted_status_user_id retweeted_status_timestamp  \\\n",
       "921                        NaN                        NaN   \n",
       "1814                       NaN                        NaN   \n",
       "967                        NaN                        NaN   \n",
       "2295                       NaN                        NaN   \n",
       "875                        NaN                        NaN   \n",
       "\n",
       "                                          expanded_urls  rating_numerator  \\\n",
       "921   https://twitter.com/dog_rates/status/756288534...                12   \n",
       "1814  https://twitter.com/dog_rates/status/676617503...                13   \n",
       "967                                                 NaN                13   \n",
       "2295  https://twitter.com/dog_rates/status/667119796...                10   \n",
       "875   https://twitter.com/dog_rates/status/761227390...                10   \n",
       "\n",
       "      rating_denominator    name  doggo floofer  pupper puppo  \n",
       "921                   10    None   None    None    None  None  \n",
       "1814                  10    None   None    None  pupper  None  \n",
       "967                   10    None  doggo    None    None  None  \n",
       "2295                  10    Gabe   None    None    None  None  \n",
       "875                   10  Albert   None    None    None  None  "
      ]
     },
     "execution_count": 4,
     "metadata": {},
     "output_type": "execute_result"
    }
   ],
   "source": [
    "#randomly view the imported dataframe\n",
    "df.sample(5)"
   ]
  },
  {
   "cell_type": "code",
   "execution_count": 5,
   "metadata": {
    "scrolled": true
   },
   "outputs": [
    {
     "data": {
      "text/html": [
       "<div>\n",
       "<style scoped>\n",
       "    .dataframe tbody tr th:only-of-type {\n",
       "        vertical-align: middle;\n",
       "    }\n",
       "\n",
       "    .dataframe tbody tr th {\n",
       "        vertical-align: top;\n",
       "    }\n",
       "\n",
       "    .dataframe thead th {\n",
       "        text-align: right;\n",
       "    }\n",
       "</style>\n",
       "<table border=\"1\" class=\"dataframe\">\n",
       "  <thead>\n",
       "    <tr style=\"text-align: right;\">\n",
       "      <th></th>\n",
       "      <th>tweet_id</th>\n",
       "      <th>in_reply_to_status_id</th>\n",
       "      <th>in_reply_to_user_id</th>\n",
       "      <th>timestamp</th>\n",
       "      <th>source</th>\n",
       "      <th>text</th>\n",
       "      <th>retweeted_status_id</th>\n",
       "      <th>retweeted_status_user_id</th>\n",
       "      <th>retweeted_status_timestamp</th>\n",
       "      <th>expanded_urls</th>\n",
       "      <th>rating_numerator</th>\n",
       "      <th>rating_denominator</th>\n",
       "      <th>name</th>\n",
       "      <th>doggo</th>\n",
       "      <th>floofer</th>\n",
       "      <th>pupper</th>\n",
       "      <th>puppo</th>\n",
       "    </tr>\n",
       "  </thead>\n",
       "  <tbody>\n",
       "    <tr>\n",
       "      <th>390</th>\n",
       "      <td>826240494070030336</td>\n",
       "      <td>NaN</td>\n",
       "      <td>NaN</td>\n",
       "      <td>2017-01-31 01:27:39 +0000</td>\n",
       "      <td>&lt;a href=\"http://twitter.com/download/iphone\" r...</td>\n",
       "      <td>We only rate dogs. Please don't send in any mo...</td>\n",
       "      <td>NaN</td>\n",
       "      <td>NaN</td>\n",
       "      <td>NaN</td>\n",
       "      <td>https://twitter.com/dog_rates/status/826240494...</td>\n",
       "      <td>11</td>\n",
       "      <td>10</td>\n",
       "      <td>None</td>\n",
       "      <td>None</td>\n",
       "      <td>None</td>\n",
       "      <td>None</td>\n",
       "      <td>None</td>\n",
       "    </tr>\n",
       "    <tr>\n",
       "      <th>1077</th>\n",
       "      <td>739544079319588864</td>\n",
       "      <td>NaN</td>\n",
       "      <td>NaN</td>\n",
       "      <td>2016-06-05 19:47:03 +0000</td>\n",
       "      <td>&lt;a href=\"http://twitter.com/download/iphone\" r...</td>\n",
       "      <td>This... is a Tyrannosaurus rex. We only rate d...</td>\n",
       "      <td>NaN</td>\n",
       "      <td>NaN</td>\n",
       "      <td>NaN</td>\n",
       "      <td>https://twitter.com/dog_rates/status/739544079...</td>\n",
       "      <td>10</td>\n",
       "      <td>10</td>\n",
       "      <td>None</td>\n",
       "      <td>None</td>\n",
       "      <td>None</td>\n",
       "      <td>None</td>\n",
       "      <td>None</td>\n",
       "    </tr>\n",
       "    <tr>\n",
       "      <th>154</th>\n",
       "      <td>862096992088072192</td>\n",
       "      <td>NaN</td>\n",
       "      <td>NaN</td>\n",
       "      <td>2017-05-10 00:08:34 +0000</td>\n",
       "      <td>&lt;a href=\"http://twitter.com/download/iphone\" r...</td>\n",
       "      <td>We only rate dogs. Please don't send perfectly...</td>\n",
       "      <td>NaN</td>\n",
       "      <td>NaN</td>\n",
       "      <td>NaN</td>\n",
       "      <td>https://twitter.com/dog_rates/status/862096992...</td>\n",
       "      <td>13</td>\n",
       "      <td>10</td>\n",
       "      <td>None</td>\n",
       "      <td>None</td>\n",
       "      <td>None</td>\n",
       "      <td>None</td>\n",
       "      <td>None</td>\n",
       "    </tr>\n",
       "    <tr>\n",
       "      <th>131</th>\n",
       "      <td>867051520902168576</td>\n",
       "      <td>NaN</td>\n",
       "      <td>NaN</td>\n",
       "      <td>2017-05-23 16:16:06 +0000</td>\n",
       "      <td>&lt;a href=\"http://twitter.com/download/iphone\" r...</td>\n",
       "      <td>Oh my this spooked me up. We only rate dogs, n...</td>\n",
       "      <td>NaN</td>\n",
       "      <td>NaN</td>\n",
       "      <td>NaN</td>\n",
       "      <td>https://twitter.com/dog_rates/status/867051520...</td>\n",
       "      <td>13</td>\n",
       "      <td>10</td>\n",
       "      <td>None</td>\n",
       "      <td>None</td>\n",
       "      <td>None</td>\n",
       "      <td>None</td>\n",
       "      <td>None</td>\n",
       "    </tr>\n",
       "    <tr>\n",
       "      <th>869</th>\n",
       "      <td>761745352076779520</td>\n",
       "      <td>NaN</td>\n",
       "      <td>NaN</td>\n",
       "      <td>2016-08-06 02:06:59 +0000</td>\n",
       "      <td>&lt;a href=\"http://twitter.com/download/iphone\" r...</td>\n",
       "      <td>Guys.. we only rate dogs. Pls don't send any m...</td>\n",
       "      <td>NaN</td>\n",
       "      <td>NaN</td>\n",
       "      <td>NaN</td>\n",
       "      <td>https://twitter.com/dog_rates/status/761745352...</td>\n",
       "      <td>11</td>\n",
       "      <td>10</td>\n",
       "      <td>None</td>\n",
       "      <td>None</td>\n",
       "      <td>None</td>\n",
       "      <td>None</td>\n",
       "      <td>None</td>\n",
       "    </tr>\n",
       "  </tbody>\n",
       "</table>\n",
       "</div>"
      ],
      "text/plain": [
       "                tweet_id  in_reply_to_status_id  in_reply_to_user_id  \\\n",
       "390   826240494070030336                    NaN                  NaN   \n",
       "1077  739544079319588864                    NaN                  NaN   \n",
       "154   862096992088072192                    NaN                  NaN   \n",
       "131   867051520902168576                    NaN                  NaN   \n",
       "869   761745352076779520                    NaN                  NaN   \n",
       "\n",
       "                      timestamp  \\\n",
       "390   2017-01-31 01:27:39 +0000   \n",
       "1077  2016-06-05 19:47:03 +0000   \n",
       "154   2017-05-10 00:08:34 +0000   \n",
       "131   2017-05-23 16:16:06 +0000   \n",
       "869   2016-08-06 02:06:59 +0000   \n",
       "\n",
       "                                                 source  \\\n",
       "390   <a href=\"http://twitter.com/download/iphone\" r...   \n",
       "1077  <a href=\"http://twitter.com/download/iphone\" r...   \n",
       "154   <a href=\"http://twitter.com/download/iphone\" r...   \n",
       "131   <a href=\"http://twitter.com/download/iphone\" r...   \n",
       "869   <a href=\"http://twitter.com/download/iphone\" r...   \n",
       "\n",
       "                                                   text  retweeted_status_id  \\\n",
       "390   We only rate dogs. Please don't send in any mo...                  NaN   \n",
       "1077  This... is a Tyrannosaurus rex. We only rate d...                  NaN   \n",
       "154   We only rate dogs. Please don't send perfectly...                  NaN   \n",
       "131   Oh my this spooked me up. We only rate dogs, n...                  NaN   \n",
       "869   Guys.. we only rate dogs. Pls don't send any m...                  NaN   \n",
       "\n",
       "      retweeted_status_user_id retweeted_status_timestamp  \\\n",
       "390                        NaN                        NaN   \n",
       "1077                       NaN                        NaN   \n",
       "154                        NaN                        NaN   \n",
       "131                        NaN                        NaN   \n",
       "869                        NaN                        NaN   \n",
       "\n",
       "                                          expanded_urls  rating_numerator  \\\n",
       "390   https://twitter.com/dog_rates/status/826240494...                11   \n",
       "1077  https://twitter.com/dog_rates/status/739544079...                10   \n",
       "154   https://twitter.com/dog_rates/status/862096992...                13   \n",
       "131   https://twitter.com/dog_rates/status/867051520...                13   \n",
       "869   https://twitter.com/dog_rates/status/761745352...                11   \n",
       "\n",
       "      rating_denominator  name doggo floofer pupper puppo  \n",
       "390                   10  None  None    None   None  None  \n",
       "1077                  10  None  None    None   None  None  \n",
       "154                   10  None  None    None   None  None  \n",
       "131                   10  None  None    None   None  None  \n",
       "869                   10  None  None    None   None  None  "
      ]
     },
     "execution_count": 5,
     "metadata": {},
     "output_type": "execute_result"
    }
   ],
   "source": [
    "#Code below was important to see ratings that were not about dogs:\n",
    "not_dogs  = df[df['text'].str.match('.*only rate dog')]\n",
    "not_dogs.sample(5)"
   ]
  },
  {
   "cell_type": "code",
   "execution_count": 6,
   "metadata": {
    "scrolled": true
   },
   "outputs": [
    {
     "data": {
      "text/plain": [
       "315        0\n",
       "1016       0\n",
       "2335       1\n",
       "2261       1\n",
       "2338       1\n",
       "605        1\n",
       "1446       1\n",
       "1869       1\n",
       "2091       1\n",
       "2038       1\n",
       "1940       1\n",
       "1764       2\n",
       "2310       2\n",
       "1761       2\n",
       "1920       2\n",
       "2246       2\n",
       "2237       2\n",
       "2349       2\n",
       "2326       2\n",
       "2079       2\n",
       "2305       3\n",
       "1249       3\n",
       "1898       3\n",
       "1478       3\n",
       "1692       3\n",
       "2202       3\n",
       "765        3\n",
       "1928       3\n",
       "1314       3\n",
       "2183       3\n",
       "        ... \n",
       "866       14\n",
       "83        14\n",
       "291       15\n",
       "285       15\n",
       "55        17\n",
       "1663      20\n",
       "516       24\n",
       "1712      26\n",
       "763       27\n",
       "1433      44\n",
       "1274      45\n",
       "1202      50\n",
       "1351      60\n",
       "340       75\n",
       "695       75\n",
       "1254      80\n",
       "433       84\n",
       "1843      88\n",
       "1228      99\n",
       "1635     121\n",
       "1634     143\n",
       "1779     144\n",
       "902      165\n",
       "290      182\n",
       "1120     204\n",
       "2074     420\n",
       "188      420\n",
       "189      666\n",
       "313      960\n",
       "979     1776\n",
       "Name: rating_numerator, Length: 2356, dtype: int64"
      ]
     },
     "execution_count": 6,
     "metadata": {},
     "output_type": "execute_result"
    }
   ],
   "source": [
    "#checking for the accuracy of the rating numerator\n",
    "df.rating_numerator.sort_values()\n",
    "#There are obviously some outliers here that will need cleaning"
   ]
  },
  {
   "cell_type": "markdown",
   "metadata": {},
   "source": [
    "2. Use the Requests library to download the tweet image prediction (image_predictions.tsv)"
   ]
  },
  {
   "cell_type": "code",
   "execution_count": 7,
   "metadata": {},
   "outputs": [
    {
     "data": {
      "text/plain": [
       "<Response [200]>"
      ]
     },
     "execution_count": 7,
     "metadata": {},
     "output_type": "execute_result"
    }
   ],
   "source": [
    "#the code below uses the requests library to obtain a response variable from the url provided in the project lesson\n",
    "response = requests.get(' https://d17h27t6h515a5.cloudfront.net/topher/2017/August/599fd2ad_image-predictions/image-predictions.tsv')\n",
    "response"
   ]
  },
  {
   "cell_type": "code",
   "execution_count": 8,
   "metadata": {},
   "outputs": [],
   "source": [
    "#writing the response variable into a tsv file on the workspace directory\n",
    "with open(os.path.join('Downloads', 'image.tsv'), mode = 'wb') as file:\n",
    "    file.write(response.content)"
   ]
  },
  {
   "cell_type": "code",
   "execution_count": 9,
   "metadata": {},
   "outputs": [
    {
     "name": "stdout",
     "output_type": "stream",
     "text": [
      "<class 'pandas.core.frame.DataFrame'>\n",
      "RangeIndex: 2075 entries, 0 to 2074\n",
      "Data columns (total 12 columns):\n",
      "tweet_id    2075 non-null int64\n",
      "jpg_url     2075 non-null object\n",
      "img_num     2075 non-null int64\n",
      "p1          2075 non-null object\n",
      "p1_conf     2075 non-null float64\n",
      "p1_dog      2075 non-null bool\n",
      "p2          2075 non-null object\n",
      "p2_conf     2075 non-null float64\n",
      "p2_dog      2075 non-null bool\n",
      "p3          2075 non-null object\n",
      "p3_conf     2075 non-null float64\n",
      "p3_dog      2075 non-null bool\n",
      "dtypes: bool(3), float64(3), int64(2), object(4)\n",
      "memory usage: 152.1+ KB\n"
     ]
    }
   ],
   "source": [
    "# reading the downloaded file into a dataframe\n",
    "image = pd.read_csv('Downloads/image.tsv', '\\t')\n",
    "#obtaining summarized information about the dataset\n",
    "image.info()"
   ]
  },
  {
   "cell_type": "code",
   "execution_count": 10,
   "metadata": {},
   "outputs": [
    {
     "data": {
      "text/html": [
       "<div>\n",
       "<style scoped>\n",
       "    .dataframe tbody tr th:only-of-type {\n",
       "        vertical-align: middle;\n",
       "    }\n",
       "\n",
       "    .dataframe tbody tr th {\n",
       "        vertical-align: top;\n",
       "    }\n",
       "\n",
       "    .dataframe thead th {\n",
       "        text-align: right;\n",
       "    }\n",
       "</style>\n",
       "<table border=\"1\" class=\"dataframe\">\n",
       "  <thead>\n",
       "    <tr style=\"text-align: right;\">\n",
       "      <th></th>\n",
       "      <th>tweet_id</th>\n",
       "      <th>jpg_url</th>\n",
       "      <th>img_num</th>\n",
       "      <th>p1</th>\n",
       "      <th>p1_conf</th>\n",
       "      <th>p1_dog</th>\n",
       "      <th>p2</th>\n",
       "      <th>p2_conf</th>\n",
       "      <th>p2_dog</th>\n",
       "      <th>p3</th>\n",
       "      <th>p3_conf</th>\n",
       "      <th>p3_dog</th>\n",
       "    </tr>\n",
       "  </thead>\n",
       "  <tbody>\n",
       "    <tr>\n",
       "      <th>0</th>\n",
       "      <td>666020888022790149</td>\n",
       "      <td>https://pbs.twimg.com/media/CT4udn0WwAA0aMy.jpg</td>\n",
       "      <td>1</td>\n",
       "      <td>Welsh_springer_spaniel</td>\n",
       "      <td>0.465074</td>\n",
       "      <td>True</td>\n",
       "      <td>collie</td>\n",
       "      <td>0.156665</td>\n",
       "      <td>True</td>\n",
       "      <td>Shetland_sheepdog</td>\n",
       "      <td>0.061428</td>\n",
       "      <td>True</td>\n",
       "    </tr>\n",
       "    <tr>\n",
       "      <th>1</th>\n",
       "      <td>666029285002620928</td>\n",
       "      <td>https://pbs.twimg.com/media/CT42GRgUYAA5iDo.jpg</td>\n",
       "      <td>1</td>\n",
       "      <td>redbone</td>\n",
       "      <td>0.506826</td>\n",
       "      <td>True</td>\n",
       "      <td>miniature_pinscher</td>\n",
       "      <td>0.074192</td>\n",
       "      <td>True</td>\n",
       "      <td>Rhodesian_ridgeback</td>\n",
       "      <td>0.072010</td>\n",
       "      <td>True</td>\n",
       "    </tr>\n",
       "    <tr>\n",
       "      <th>2</th>\n",
       "      <td>666033412701032449</td>\n",
       "      <td>https://pbs.twimg.com/media/CT4521TWwAEvMyu.jpg</td>\n",
       "      <td>1</td>\n",
       "      <td>German_shepherd</td>\n",
       "      <td>0.596461</td>\n",
       "      <td>True</td>\n",
       "      <td>malinois</td>\n",
       "      <td>0.138584</td>\n",
       "      <td>True</td>\n",
       "      <td>bloodhound</td>\n",
       "      <td>0.116197</td>\n",
       "      <td>True</td>\n",
       "    </tr>\n",
       "    <tr>\n",
       "      <th>3</th>\n",
       "      <td>666044226329800704</td>\n",
       "      <td>https://pbs.twimg.com/media/CT5Dr8HUEAA-lEu.jpg</td>\n",
       "      <td>1</td>\n",
       "      <td>Rhodesian_ridgeback</td>\n",
       "      <td>0.408143</td>\n",
       "      <td>True</td>\n",
       "      <td>redbone</td>\n",
       "      <td>0.360687</td>\n",
       "      <td>True</td>\n",
       "      <td>miniature_pinscher</td>\n",
       "      <td>0.222752</td>\n",
       "      <td>True</td>\n",
       "    </tr>\n",
       "    <tr>\n",
       "      <th>4</th>\n",
       "      <td>666049248165822465</td>\n",
       "      <td>https://pbs.twimg.com/media/CT5IQmsXIAAKY4A.jpg</td>\n",
       "      <td>1</td>\n",
       "      <td>miniature_pinscher</td>\n",
       "      <td>0.560311</td>\n",
       "      <td>True</td>\n",
       "      <td>Rottweiler</td>\n",
       "      <td>0.243682</td>\n",
       "      <td>True</td>\n",
       "      <td>Doberman</td>\n",
       "      <td>0.154629</td>\n",
       "      <td>True</td>\n",
       "    </tr>\n",
       "  </tbody>\n",
       "</table>\n",
       "</div>"
      ],
      "text/plain": [
       "             tweet_id                                          jpg_url  \\\n",
       "0  666020888022790149  https://pbs.twimg.com/media/CT4udn0WwAA0aMy.jpg   \n",
       "1  666029285002620928  https://pbs.twimg.com/media/CT42GRgUYAA5iDo.jpg   \n",
       "2  666033412701032449  https://pbs.twimg.com/media/CT4521TWwAEvMyu.jpg   \n",
       "3  666044226329800704  https://pbs.twimg.com/media/CT5Dr8HUEAA-lEu.jpg   \n",
       "4  666049248165822465  https://pbs.twimg.com/media/CT5IQmsXIAAKY4A.jpg   \n",
       "\n",
       "   img_num                      p1   p1_conf  p1_dog                  p2  \\\n",
       "0        1  Welsh_springer_spaniel  0.465074    True              collie   \n",
       "1        1                 redbone  0.506826    True  miniature_pinscher   \n",
       "2        1         German_shepherd  0.596461    True            malinois   \n",
       "3        1     Rhodesian_ridgeback  0.408143    True             redbone   \n",
       "4        1      miniature_pinscher  0.560311    True          Rottweiler   \n",
       "\n",
       "    p2_conf  p2_dog                   p3   p3_conf  p3_dog  \n",
       "0  0.156665    True    Shetland_sheepdog  0.061428    True  \n",
       "1  0.074192    True  Rhodesian_ridgeback  0.072010    True  \n",
       "2  0.138584    True           bloodhound  0.116197    True  \n",
       "3  0.360687    True   miniature_pinscher  0.222752    True  \n",
       "4  0.243682    True             Doberman  0.154629    True  "
      ]
     },
     "execution_count": 10,
     "metadata": {},
     "output_type": "execute_result"
    }
   ],
   "source": [
    "# visually assessing the file's structure\n",
    "image.head()"
   ]
  },
  {
   "cell_type": "code",
   "execution_count": 11,
   "metadata": {},
   "outputs": [
    {
     "data": {
      "text/plain": [
       "None          745\n",
       "a              55\n",
       "Charlie        12\n",
       "Oliver         11\n",
       "Lucy           11\n",
       "Cooper         11\n",
       "Tucker         10\n",
       "Lola           10\n",
       "Penny          10\n",
       "Bo              9\n",
       "Winston         9\n",
       "Sadie           8\n",
       "the             8\n",
       "Bailey          7\n",
       "an              7\n",
       "Daisy           7\n",
       "Toby            7\n",
       "Buddy           7\n",
       "Bella           6\n",
       "Scout           6\n",
       "Dave            6\n",
       "Rusty           6\n",
       "Jax             6\n",
       "Jack            6\n",
       "Milo            6\n",
       "Stanley         6\n",
       "Leo             6\n",
       "Koda            6\n",
       "Oscar           6\n",
       "Chester         5\n",
       "             ... \n",
       "Carbon          1\n",
       "Maisey          1\n",
       "Liam            1\n",
       "Ronduh          1\n",
       "this            1\n",
       "Tonks           1\n",
       "Gòrdón          1\n",
       "Mairi           1\n",
       "Rose            1\n",
       "officially      1\n",
       "Shiloh          1\n",
       "Ulysses         1\n",
       "Gin             1\n",
       "Dietrich        1\n",
       "Jazz            1\n",
       "Napolean        1\n",
       "Teddy           1\n",
       "Vince           1\n",
       "Dobby           1\n",
       "Meatball        1\n",
       "Karl            1\n",
       "Gustav          1\n",
       "Gustaf          1\n",
       "Chesterson      1\n",
       "Lambeau         1\n",
       "Jessiga         1\n",
       "Enchilada       1\n",
       "Ember           1\n",
       "Lupe            1\n",
       "Tug             1\n",
       "Name: name, Length: 957, dtype: int64"
      ]
     },
     "execution_count": 11,
     "metadata": {},
     "output_type": "execute_result"
    }
   ],
   "source": [
    "df.name.value_counts()"
   ]
  },
  {
   "cell_type": "markdown",
   "metadata": {},
   "source": [
    "3. Use the Tweepy library to query additional data via the Twitter API (tweet_json.txt)"
   ]
  },
  {
   "cell_type": "code",
   "execution_count": 12,
   "metadata": {},
   "outputs": [
    {
     "name": "stdout",
     "output_type": "stream",
     "text": [
      "<class 'pandas.core.frame.DataFrame'>\n",
      "RangeIndex: 2354 entries, 0 to 2353\n",
      "Data columns (total 3 columns):\n",
      "id                2354 non-null int64\n",
      "retweet_count     2354 non-null int64\n",
      "favorite_count    2354 non-null int64\n",
      "dtypes: int64(3)\n",
      "memory usage: 55.2 KB\n"
     ]
    }
   ],
   "source": [
    "tweets = []\n",
    "\n",
    "with open('tweet-json.txt', 'r') as file:\n",
    "    for line in file:\n",
    "        data = json.loads(line)\n",
    "        tweets.append(data)\n",
    "df3 = pd.DataFrame(tweets, columns = ['id', 'retweet_count', 'favorite_count'])\n",
    "df3.info()"
   ]
  },
  {
   "cell_type": "code",
   "execution_count": 13,
   "metadata": {},
   "outputs": [
    {
     "data": {
      "text/html": [
       "<div>\n",
       "<style scoped>\n",
       "    .dataframe tbody tr th:only-of-type {\n",
       "        vertical-align: middle;\n",
       "    }\n",
       "\n",
       "    .dataframe tbody tr th {\n",
       "        vertical-align: top;\n",
       "    }\n",
       "\n",
       "    .dataframe thead th {\n",
       "        text-align: right;\n",
       "    }\n",
       "</style>\n",
       "<table border=\"1\" class=\"dataframe\">\n",
       "  <thead>\n",
       "    <tr style=\"text-align: right;\">\n",
       "      <th></th>\n",
       "      <th>id</th>\n",
       "      <th>retweet_count</th>\n",
       "      <th>favorite_count</th>\n",
       "    </tr>\n",
       "  </thead>\n",
       "  <tbody>\n",
       "    <tr>\n",
       "      <th>1059</th>\n",
       "      <td>741303864243200000</td>\n",
       "      <td>3650</td>\n",
       "      <td>9631</td>\n",
       "    </tr>\n",
       "    <tr>\n",
       "      <th>41</th>\n",
       "      <td>884247878851493888</td>\n",
       "      <td>21298</td>\n",
       "      <td>74423</td>\n",
       "    </tr>\n",
       "    <tr>\n",
       "      <th>2111</th>\n",
       "      <td>670434127938719744</td>\n",
       "      <td>708</td>\n",
       "      <td>1501</td>\n",
       "    </tr>\n",
       "    <tr>\n",
       "      <th>790</th>\n",
       "      <td>773704687002451968</td>\n",
       "      <td>1891</td>\n",
       "      <td>7317</td>\n",
       "    </tr>\n",
       "    <tr>\n",
       "      <th>394</th>\n",
       "      <td>825535076884762624</td>\n",
       "      <td>19669</td>\n",
       "      <td>56413</td>\n",
       "    </tr>\n",
       "  </tbody>\n",
       "</table>\n",
       "</div>"
      ],
      "text/plain": [
       "                      id  retweet_count  favorite_count\n",
       "1059  741303864243200000           3650            9631\n",
       "41    884247878851493888          21298           74423\n",
       "2111  670434127938719744            708            1501\n",
       "790   773704687002451968           1891            7317\n",
       "394   825535076884762624          19669           56413"
      ]
     },
     "execution_count": 13,
     "metadata": {},
     "output_type": "execute_result"
    }
   ],
   "source": [
    "df3.sample(5)"
   ]
  },
  {
   "cell_type": "markdown",
   "metadata": {},
   "source": [
    "Unfortunately, i was unable to gain access to Twitter API despite following all the instructions provided in the project lessons so i resorted to downloading the text file and loading them into a pandas dataframe using the json library"
   ]
  },
  {
   "cell_type": "markdown",
   "metadata": {},
   "source": [
    "### Quality issues\n",
    "1. in_reply_to_status_id, in_reply_to_user_id, retweeted_status_id, retweeted_status_user_id and retweeted_status_timestamp columns contain data about retweets which are not very useful for this analysis hence will be dropped. Additionally, they contain missing values. The focus of this analysis is on orginal ratings.\n",
    "\n",
    "2. timestamp object should be data type - datetime not object.\n",
    "\n",
    "3. Going through the text column, some reviews were not about dogs. This will need to be removed as they are not valid for the purpose of this analysis.\n",
    "\n",
    "4. Going through the source column, the tags are included in the tweet source, it may be important to extraxt the source only.\n",
    "\n",
    "5. The dog ratings need to be properly extracted from the text column as there are a few outliers in the rating_numerator column.\n",
    "\n",
    "6. The dog stages columns contain a lot of values with string 'none'. This is not helpful to this analysis and will be converted to null values\n",
    "\n",
    "7. The rating denominator column is redundant as it is stated in the project guidance that the ratings are almost always over 10 Hence this will be dropped for the purpose of this analysis.\n",
    "\n",
    "8. expanded_url column will be dropped as they are not very useful for the purpose of this analysis"
   ]
  },
  {
   "cell_type": "markdown",
   "metadata": {
    "extensions": {
     "jupyter_dashboards": {
      "version": 1,
      "views": {
       "grid_default": {
        "col": 0,
        "height": 7,
        "hidden": false,
        "row": 40,
        "width": 12
       },
       "report_default": {
        "hidden": false
       }
      }
     }
    }
   },
   "source": [
    "### Tidiness issues\n",
    "1. The p1, p2, p3, p1_conf, p2_conf, p3 conf, p1_dog, p2_dog and p3_dog consists of basically two variables that are useful to our analysis - The breed and the confidence level. The pictures that couldnt be recognised as dogs can be assigned values none to simplify the structure of the table and facilitate merging with other datasets in this analysis.\n",
    "\n",
    "2. The dog stages columns in the twitter_archive dataset can be restructured into a single column.\n",
    "\n",
    "3. The three datasets gathered for this analysis can be combined into one for deeper insights."
   ]
  },
  {
   "cell_type": "markdown",
   "metadata": {
    "extensions": {
     "jupyter_dashboards": {
      "version": 1,
      "views": {
       "grid_default": {
        "col": 4,
        "height": 4,
        "hidden": false,
        "row": 32,
        "width": 4
       },
       "report_default": {
        "hidden": false
       }
      }
     }
    }
   },
   "source": [
    "## Cleaning Data\n",
    "In this section, clean **all** of the issues you documented while assessing. \n",
    "\n",
    "**Note:** Make a copy of the original data before cleaning. Cleaning includes merging individual pieces of data according to the rules of [tidy data](https://cran.r-project.org/web/packages/tidyr/vignettes/tidy-data.html). The result should be a high-quality and tidy master pandas DataFrame (or DataFrames, if appropriate)."
   ]
  },
  {
   "cell_type": "code",
   "execution_count": 14,
   "metadata": {},
   "outputs": [],
   "source": [
    "# Make copies of original pieces of data\n",
    "df_cleaned = df.copy()\n",
    "image_cleaned = image.copy()\n",
    "df3_cleaned = df3.copy()"
   ]
  },
  {
   "cell_type": "markdown",
   "metadata": {},
   "source": [
    "### Issue #1:"
   ]
  },
  {
   "cell_type": "markdown",
   "metadata": {},
   "source": [
    "#### Define: \n",
    "drop in_reply_to_status_id, in_reply_to_user_id, retweeted_status_id, retweeted_status_user_id and retweeted_status_timestamp columns using a custom function."
   ]
  },
  {
   "cell_type": "markdown",
   "metadata": {},
   "source": [
    "#### Code:"
   ]
  },
  {
   "cell_type": "code",
   "execution_count": 15,
   "metadata": {},
   "outputs": [
    {
     "data": {
      "text/plain": [
       "Int64Index([  30,   55,   64,  113,  148,  149,  179,  184,  186,  188,  189,\n",
       "             218,  228,  234,  251,  274,  290,  291,  313,  342,  346,  387,\n",
       "             409,  427,  498,  513,  565,  570,  576,  611,  701,  843,  857,\n",
       "             967, 1005, 1016, 1018, 1080, 1127, 1295, 1330, 1339, 1345, 1356,\n",
       "            1446, 1452, 1464, 1474, 1479, 1497, 1501, 1523, 1598, 1605, 1618,\n",
       "            1630, 1634, 1663, 1689, 1774, 1819, 1842, 1844, 1852, 1866, 1882,\n",
       "            1885, 1892, 1895, 1905, 1914, 1940, 2036, 2038, 2149, 2169, 2189,\n",
       "            2298],\n",
       "           dtype='int64')"
      ]
     },
     "execution_count": 15,
     "metadata": {},
     "output_type": "execute_result"
    }
   ],
   "source": [
    "#Get the index of in_reply_to_status_id and in_reply_to_user_id\n",
    "\n",
    "reply_id_index = df_cleaned[df_cleaned['in_reply_to_status_id'].notnull()].index\n",
    "reply_id_index"
   ]
  },
  {
   "cell_type": "code",
   "execution_count": 16,
   "metadata": {},
   "outputs": [
    {
     "data": {
      "text/plain": [
       "Int64Index([  19,   32,   36,   68,   73,   74,   78,   91,   95,   97,\n",
       "            ...\n",
       "             926,  937,  943,  949, 1012, 1023, 1043, 1242, 2259, 2260],\n",
       "           dtype='int64', length=181)"
      ]
     },
     "execution_count": 16,
     "metadata": {},
     "output_type": "execute_result"
    }
   ],
   "source": [
    "#Get the index of retweeted_status_id, retweeted_status_user_id and retweeted_status_timestamp columns\n",
    "retweeted_status_id_index = df_cleaned[df_cleaned['retweeted_status_user_id'].notnull()].index\n",
    "retweeted_status_id_index"
   ]
  },
  {
   "cell_type": "code",
   "execution_count": 17,
   "metadata": {},
   "outputs": [],
   "source": [
    "#create drop row/columns function\n",
    "def drop_col_row(dframe, row_col, axis=0):\n",
    "    dframe.drop(row_col, axis=axis, inplace=True)"
   ]
  },
  {
   "cell_type": "code",
   "execution_count": 18,
   "metadata": {},
   "outputs": [
    {
     "name": "stdout",
     "output_type": "stream",
     "text": [
      "<class 'pandas.core.frame.DataFrame'>\n",
      "Int64Index: 2097 entries, 0 to 2355\n",
      "Data columns (total 17 columns):\n",
      "tweet_id                      2097 non-null int64\n",
      "in_reply_to_status_id         0 non-null float64\n",
      "in_reply_to_user_id           0 non-null float64\n",
      "timestamp                     2097 non-null object\n",
      "source                        2097 non-null object\n",
      "text                          2097 non-null object\n",
      "retweeted_status_id           0 non-null float64\n",
      "retweeted_status_user_id      0 non-null float64\n",
      "retweeted_status_timestamp    0 non-null object\n",
      "expanded_urls                 2094 non-null object\n",
      "rating_numerator              2097 non-null int64\n",
      "rating_denominator            2097 non-null int64\n",
      "name                          2097 non-null object\n",
      "doggo                         2097 non-null object\n",
      "floofer                       2097 non-null object\n",
      "pupper                        2097 non-null object\n",
      "puppo                         2097 non-null object\n",
      "dtypes: float64(4), int64(3), object(10)\n",
      "memory usage: 294.9+ KB\n"
     ]
    }
   ],
   "source": [
    "#Apply the above function to the generated indexes for columns to be dropped\n",
    "drop_col_row(df_cleaned, reply_id_index)\n",
    "drop_col_row(df_cleaned, retweeted_status_id_index)\n",
    "df_cleaned.info()"
   ]
  },
  {
   "cell_type": "code",
   "execution_count": 19,
   "metadata": {},
   "outputs": [],
   "source": [
    "#it was important to drop the rows first to remove all observations connected to the variable. Now we can drop the columns\n",
    "\n",
    "df_cleaned.drop(['in_reply_to_status_id', 'in_reply_to_user_id','retweeted_status_id','retweeted_status_user_id', 'retweeted_status_timestamp'],axis = 1, inplace = True)"
   ]
  },
  {
   "cell_type": "markdown",
   "metadata": {},
   "source": [
    "#### Test"
   ]
  },
  {
   "cell_type": "code",
   "execution_count": 20,
   "metadata": {},
   "outputs": [
    {
     "name": "stdout",
     "output_type": "stream",
     "text": [
      "<class 'pandas.core.frame.DataFrame'>\n",
      "Int64Index: 2097 entries, 0 to 2355\n",
      "Data columns (total 12 columns):\n",
      "tweet_id              2097 non-null int64\n",
      "timestamp             2097 non-null object\n",
      "source                2097 non-null object\n",
      "text                  2097 non-null object\n",
      "expanded_urls         2094 non-null object\n",
      "rating_numerator      2097 non-null int64\n",
      "rating_denominator    2097 non-null int64\n",
      "name                  2097 non-null object\n",
      "doggo                 2097 non-null object\n",
      "floofer               2097 non-null object\n",
      "pupper                2097 non-null object\n",
      "puppo                 2097 non-null object\n",
      "dtypes: int64(3), object(9)\n",
      "memory usage: 213.0+ KB\n"
     ]
    }
   ],
   "source": [
    "df_cleaned.info()"
   ]
  },
  {
   "cell_type": "markdown",
   "metadata": {},
   "source": [
    "### Issue #2: \n",
    "timestamp object should be data type - datetime not object."
   ]
  },
  {
   "cell_type": "markdown",
   "metadata": {
    "collapsed": true,
    "extensions": {
     "jupyter_dashboards": {
      "version": 1,
      "views": {
       "grid_default": {
        "hidden": true
       },
       "report_default": {
        "hidden": true
       }
      }
     }
    }
   },
   "source": [
    "#### Define\n",
    "Change timpestamp data type from object to datetime"
   ]
  },
  {
   "cell_type": "markdown",
   "metadata": {},
   "source": [
    "#### Code"
   ]
  },
  {
   "cell_type": "code",
   "execution_count": 21,
   "metadata": {},
   "outputs": [],
   "source": [
    "df_cleaned.timestamp = pd.to_datetime(df.timestamp)"
   ]
  },
  {
   "cell_type": "markdown",
   "metadata": {},
   "source": [
    "#### Test"
   ]
  },
  {
   "cell_type": "code",
   "execution_count": 22,
   "metadata": {},
   "outputs": [
    {
     "name": "stdout",
     "output_type": "stream",
     "text": [
      "<class 'pandas.core.frame.DataFrame'>\n",
      "Int64Index: 2097 entries, 0 to 2355\n",
      "Data columns (total 12 columns):\n",
      "tweet_id              2097 non-null int64\n",
      "timestamp             2097 non-null datetime64[ns]\n",
      "source                2097 non-null object\n",
      "text                  2097 non-null object\n",
      "expanded_urls         2094 non-null object\n",
      "rating_numerator      2097 non-null int64\n",
      "rating_denominator    2097 non-null int64\n",
      "name                  2097 non-null object\n",
      "doggo                 2097 non-null object\n",
      "floofer               2097 non-null object\n",
      "pupper                2097 non-null object\n",
      "puppo                 2097 non-null object\n",
      "dtypes: datetime64[ns](1), int64(3), object(8)\n",
      "memory usage: 213.0+ KB\n"
     ]
    }
   ],
   "source": [
    "df_cleaned.info()"
   ]
  },
  {
   "cell_type": "markdown",
   "metadata": {},
   "source": [
    "### Issue #3: \n",
    "Going through the text column, some reviews were not about dogs. This will need to be removed as they are not valid for the purpose of this analysis."
   ]
  },
  {
   "cell_type": "markdown",
   "metadata": {},
   "source": [
    "#### Define\n",
    "\n",
    "Match all rows with text not about dogs using the string 'we only rate dogs', obtain the index and drop the corresponding rows."
   ]
  },
  {
   "cell_type": "code",
   "execution_count": 23,
   "metadata": {},
   "outputs": [],
   "source": [
    "not_dogs  = df_cleaned[df_cleaned['text'].str.match('.*only rate dog')].index\n",
    "drop_col_row(df_cleaned, not_dogs)"
   ]
  },
  {
   "cell_type": "markdown",
   "metadata": {},
   "source": [
    "#### Test"
   ]
  },
  {
   "cell_type": "code",
   "execution_count": 24,
   "metadata": {},
   "outputs": [
    {
     "name": "stdout",
     "output_type": "stream",
     "text": [
      "<class 'pandas.core.frame.DataFrame'>\n",
      "Int64Index: 2043 entries, 0 to 2355\n",
      "Data columns (total 12 columns):\n",
      "tweet_id              2043 non-null int64\n",
      "timestamp             2043 non-null datetime64[ns]\n",
      "source                2043 non-null object\n",
      "text                  2043 non-null object\n",
      "expanded_urls         2040 non-null object\n",
      "rating_numerator      2043 non-null int64\n",
      "rating_denominator    2043 non-null int64\n",
      "name                  2043 non-null object\n",
      "doggo                 2043 non-null object\n",
      "floofer               2043 non-null object\n",
      "pupper                2043 non-null object\n",
      "puppo                 2043 non-null object\n",
      "dtypes: datetime64[ns](1), int64(3), object(8)\n",
      "memory usage: 207.5+ KB\n"
     ]
    }
   ],
   "source": [
    "df_cleaned.info() #54 rows not about dogs have been dropped."
   ]
  },
  {
   "cell_type": "markdown",
   "metadata": {},
   "source": [
    "### Issue #4: \n",
    "Going through the source column, the tags are included in the tweet source, it may be important to extraxt the source only."
   ]
  },
  {
   "cell_type": "markdown",
   "metadata": {},
   "source": [
    "#### Define\n",
    "Extract the tweet source using regular expressions"
   ]
  },
  {
   "cell_type": "markdown",
   "metadata": {},
   "source": [
    "### Code"
   ]
  },
  {
   "cell_type": "code",
   "execution_count": 25,
   "metadata": {},
   "outputs": [],
   "source": [
    "df_cleaned['source'] = df_cleaned['source'].str.extract('^<a.+>(.+)</a>$')"
   ]
  },
  {
   "cell_type": "markdown",
   "metadata": {},
   "source": [
    "### Test"
   ]
  },
  {
   "cell_type": "code",
   "execution_count": 26,
   "metadata": {},
   "outputs": [
    {
     "data": {
      "text/plain": [
       "Twitter for iPhone     1911\n",
       "Vine - Make a Scene      91\n",
       "Twitter Web Client       31\n",
       "TweetDeck                10\n",
       "Name: source, dtype: int64"
      ]
     },
     "execution_count": 26,
     "metadata": {},
     "output_type": "execute_result"
    }
   ],
   "source": [
    "df_cleaned.source.value_counts()"
   ]
  },
  {
   "cell_type": "markdown",
   "metadata": {},
   "source": [
    "### Issue #5:  \n",
    "The dog ratings need to be properly extracted from the text column as there are a few outliers in the rating_numerator column."
   ]
  },
  {
   "cell_type": "markdown",
   "metadata": {},
   "source": [
    "### Define:\n",
    "Extract the numerator only using regular expressions"
   ]
  },
  {
   "cell_type": "markdown",
   "metadata": {},
   "source": [
    "### Code:"
   ]
  },
  {
   "cell_type": "code",
   "execution_count": 27,
   "metadata": {},
   "outputs": [],
   "source": [
    "df_cleaned['rating_numerator'] = df_cleaned['text'].str.extract('(\\d+\\.*\\d*/\\d+)', expand=False).str.split('/').str[0]\n",
    "df_cleaned.rating_numerator = df_cleaned.rating_numerator.astype('float') #converts numerator to an integer"
   ]
  },
  {
   "cell_type": "markdown",
   "metadata": {},
   "source": [
    "### Test"
   ]
  },
  {
   "cell_type": "code",
   "execution_count": 28,
   "metadata": {},
   "outputs": [
    {
     "data": {
      "text/plain": [
       "0       13.0\n",
       "1       13.0\n",
       "2       12.0\n",
       "3       13.0\n",
       "4       12.0\n",
       "5       13.0\n",
       "6       13.0\n",
       "7       13.0\n",
       "8       13.0\n",
       "9       14.0\n",
       "10      13.0\n",
       "11      13.0\n",
       "12      13.0\n",
       "13      12.0\n",
       "14      13.0\n",
       "15      13.0\n",
       "16      12.0\n",
       "17      13.0\n",
       "18      13.0\n",
       "20      12.0\n",
       "21      13.0\n",
       "22      14.0\n",
       "23      13.0\n",
       "24      13.0\n",
       "26      13.0\n",
       "27      13.0\n",
       "28      13.0\n",
       "29      12.0\n",
       "31      13.0\n",
       "33      12.0\n",
       "        ... \n",
       "2326     2.0\n",
       "2327     7.0\n",
       "2328     9.0\n",
       "2329    11.0\n",
       "2330     6.0\n",
       "2331     8.0\n",
       "2332    10.0\n",
       "2333     9.0\n",
       "2334     3.0\n",
       "2335     1.0\n",
       "2336    11.0\n",
       "2337    10.0\n",
       "2338     1.0\n",
       "2339    11.0\n",
       "2340     8.0\n",
       "2341     9.0\n",
       "2342     6.0\n",
       "2343    10.0\n",
       "2344     9.0\n",
       "2345    10.0\n",
       "2346     8.0\n",
       "2347     9.0\n",
       "2348    10.0\n",
       "2349     2.0\n",
       "2350    10.0\n",
       "2351     5.0\n",
       "2352     6.0\n",
       "2353     9.0\n",
       "2354     7.0\n",
       "2355     8.0\n",
       "Name: rating_numerator, Length: 2043, dtype: float64"
      ]
     },
     "execution_count": 28,
     "metadata": {},
     "output_type": "execute_result"
    }
   ],
   "source": [
    "df_cleaned.rating_numerator"
   ]
  },
  {
   "cell_type": "markdown",
   "metadata": {},
   "source": [
    "### Issue 6\n",
    "The dog stages columns contain a lot of values with string 'none'. This is not helpful to this analysis and will be converted to null values so it can be tidied in a single column later."
   ]
  },
  {
   "cell_type": "markdown",
   "metadata": {},
   "source": [
    "### Define:\n",
    "Replace all dog stages columns containing string 'none' to Nan Values"
   ]
  },
  {
   "cell_type": "markdown",
   "metadata": {},
   "source": [
    "### Code:\n"
   ]
  },
  {
   "cell_type": "code",
   "execution_count": 29,
   "metadata": {},
   "outputs": [],
   "source": [
    "dog_stages_columns = ['doggo', 'floofer', 'pupper', 'puppo']\n",
    "df_cleaned[dog_stages_columns] = df_cleaned[dog_stages_columns].replace('None', np.nan)\n",
    "\n"
   ]
  },
  {
   "cell_type": "markdown",
   "metadata": {},
   "source": [
    "### Test"
   ]
  },
  {
   "cell_type": "code",
   "execution_count": 30,
   "metadata": {},
   "outputs": [
    {
     "name": "stdout",
     "output_type": "stream",
     "text": [
      "<class 'pandas.core.frame.DataFrame'>\n",
      "Int64Index: 2043 entries, 0 to 2355\n",
      "Data columns (total 12 columns):\n",
      "tweet_id              2043 non-null int64\n",
      "timestamp             2043 non-null datetime64[ns]\n",
      "source                2043 non-null object\n",
      "text                  2043 non-null object\n",
      "expanded_urls         2040 non-null object\n",
      "rating_numerator      2043 non-null float64\n",
      "rating_denominator    2043 non-null int64\n",
      "name                  2043 non-null object\n",
      "doggo                 83 non-null object\n",
      "floofer               10 non-null object\n",
      "pupper                230 non-null object\n",
      "puppo                 24 non-null object\n",
      "dtypes: datetime64[ns](1), float64(1), int64(2), object(8)\n",
      "memory usage: 207.5+ KB\n"
     ]
    }
   ],
   "source": [
    "df_cleaned.info()"
   ]
  },
  {
   "cell_type": "markdown",
   "metadata": {},
   "source": [
    "### Issue #7:  \n",
    "The rating denominator column is redundant as it is stated in the project guidance that the ratings are almost always over 10 Hence this will be dropped for the purpose of this analysis."
   ]
  },
  {
   "cell_type": "markdown",
   "metadata": {},
   "source": [
    "### Define:\n",
    "Drop rating denominator column"
   ]
  },
  {
   "cell_type": "markdown",
   "metadata": {},
   "source": [
    "### Code:"
   ]
  },
  {
   "cell_type": "code",
   "execution_count": 31,
   "metadata": {},
   "outputs": [],
   "source": [
    "drop_col_row(df_cleaned, 'rating_denominator', axis=1)"
   ]
  },
  {
   "cell_type": "markdown",
   "metadata": {},
   "source": [
    "### Test:"
   ]
  },
  {
   "cell_type": "code",
   "execution_count": 32,
   "metadata": {},
   "outputs": [
    {
     "name": "stdout",
     "output_type": "stream",
     "text": [
      "<class 'pandas.core.frame.DataFrame'>\n",
      "Int64Index: 2043 entries, 0 to 2355\n",
      "Data columns (total 11 columns):\n",
      "tweet_id            2043 non-null int64\n",
      "timestamp           2043 non-null datetime64[ns]\n",
      "source              2043 non-null object\n",
      "text                2043 non-null object\n",
      "expanded_urls       2040 non-null object\n",
      "rating_numerator    2043 non-null float64\n",
      "name                2043 non-null object\n",
      "doggo               83 non-null object\n",
      "floofer             10 non-null object\n",
      "pupper              230 non-null object\n",
      "puppo               24 non-null object\n",
      "dtypes: datetime64[ns](1), float64(1), int64(1), object(8)\n",
      "memory usage: 191.5+ KB\n"
     ]
    }
   ],
   "source": [
    "df_cleaned.info()"
   ]
  },
  {
   "cell_type": "markdown",
   "metadata": {},
   "source": [
    "### Issue #7: \n",
    "expanded_url column will be dropped as they are not very useful for the purpose of this analysis"
   ]
  },
  {
   "cell_type": "markdown",
   "metadata": {},
   "source": [
    "### Define: \n",
    "Remove expanded_url column"
   ]
  },
  {
   "cell_type": "markdown",
   "metadata": {},
   "source": [
    "### Code:"
   ]
  },
  {
   "cell_type": "code",
   "execution_count": 33,
   "metadata": {},
   "outputs": [
    {
     "name": "stdout",
     "output_type": "stream",
     "text": [
      "<class 'pandas.core.frame.DataFrame'>\n",
      "Int64Index: 2043 entries, 0 to 2355\n",
      "Data columns (total 11 columns):\n",
      "tweet_id            2043 non-null int64\n",
      "timestamp           2043 non-null datetime64[ns]\n",
      "source              2043 non-null object\n",
      "text                2043 non-null object\n",
      "expanded_urls       2040 non-null object\n",
      "rating_numerator    2043 non-null float64\n",
      "name                2043 non-null object\n",
      "doggo               83 non-null object\n",
      "floofer             10 non-null object\n",
      "pupper              230 non-null object\n",
      "puppo               24 non-null object\n",
      "dtypes: datetime64[ns](1), float64(1), int64(1), object(8)\n",
      "memory usage: 191.5+ KB\n"
     ]
    }
   ],
   "source": [
    "drop_col_row(df, 'expanded_urls', axis=1)\n",
    "df_cleaned.info()"
   ]
  },
  {
   "cell_type": "markdown",
   "metadata": {},
   "source": [
    "## Tidiness Issues:\n",
    "\n",
    "### Issue 1: \n",
    "The p1, p2, p3, p1_conf, p2_conf, p3 conf, p1_dog, p2_dog and p3_dog columns in the image table consists of basically two variables that are useful to our analysis - The breed and the confidence level. The pictures that couldnt be recognised as dogs can be assigned values none to simplify the structure of the table and facilitate merging with other datasets in this analysis.\n",
    "\n",
    "### Define:\n",
    "Use numpy select function to select values into newly created breed and confidence level columns based on the true value for each observation in the image table and return none for observations with all false values. This will ensure only the most confident predictions remain in table. After this, The p1, p2, p3, p1_conf, p2_conf, p3 conf, p1_dog, p2_dog and p3_dog columns will be dropped.\n",
    "\n",
    "### Code:\n"
   ]
  },
  {
   "cell_type": "code",
   "execution_count": 34,
   "metadata": {},
   "outputs": [],
   "source": [
    "truth_test = [(image_cleaned['p1_dog'] == True),(image_cleaned['p2_dog'] == True), (image_cleaned['p3_dog'] == True)]\n",
    "\n",
    "breed = [image_cleaned['p1'], image_cleaned['p2'], image_cleaned['p3']]\n",
    "\n",
    "pred_conf = [image_cleaned['p1_conf'], image_cleaned['p2_conf'], image_cleaned['p3_conf']]\n",
    "\n",
    "image_cleaned['breed'] = np.select(truth_test, breed, default='None')\n",
    "\n",
    "image_cleaned['prediction'] = np.select(truth_test, pred_conf, default=0)\n",
    "\n",
    "drop_col_row(image_cleaned,['p1', 'p2', 'p3', 'p1_conf', 'p2_conf', 'p3_conf', 'p1_dog', 'p2_dog', 'p3_dog'], axis = 1)"
   ]
  },
  {
   "cell_type": "markdown",
   "metadata": {},
   "source": [
    "### Test:"
   ]
  },
  {
   "cell_type": "code",
   "execution_count": 35,
   "metadata": {},
   "outputs": [
    {
     "name": "stdout",
     "output_type": "stream",
     "text": [
      "<class 'pandas.core.frame.DataFrame'>\n",
      "RangeIndex: 2075 entries, 0 to 2074\n",
      "Data columns (total 5 columns):\n",
      "tweet_id      2075 non-null int64\n",
      "jpg_url       2075 non-null object\n",
      "img_num       2075 non-null int64\n",
      "breed         2075 non-null object\n",
      "prediction    2075 non-null float64\n",
      "dtypes: float64(1), int64(2), object(2)\n",
      "memory usage: 81.1+ KB\n"
     ]
    }
   ],
   "source": [
    "image_cleaned.info()"
   ]
  },
  {
   "cell_type": "markdown",
   "metadata": {},
   "source": [
    "### Issue 2: \n",
    "The dog stages columns in the twitter_archive dataset can be restructured into a single column.\n",
    "\n",
    "### Define:\n",
    "Use a join function on a list of columns to be combined. The join function will also drop null values that were converted from 'None' strings earlier in this analysis. Finally, the dog stages columns will be dropped using my custom drop columns function.\n",
    "\n",
    "\n",
    "### Code:"
   ]
  },
  {
   "cell_type": "code",
   "execution_count": 36,
   "metadata": {},
   "outputs": [],
   "source": [
    "dog_stages = ['doggo', 'floofer', 'pupper', 'puppo']\n",
    "def join(List):\n",
    "    return ', '.join(List.dropna().astype(str))\n",
    "\n",
    "df_cleaned['dog_stages'] = df_cleaned[dog_stages].apply(join, axis=1)\n",
    "\n",
    "df_cleaned['dog_stages'] = df_cleaned['dog_stages'].replace('',np.nan)\n",
    "\n",
    "drop_col_row(df_cleaned, ['doggo', 'floofer', 'pupper', 'puppo'], axis = 1 )"
   ]
  },
  {
   "cell_type": "code",
   "execution_count": 37,
   "metadata": {
    "scrolled": true
   },
   "outputs": [
    {
     "data": {
      "text/html": [
       "<div>\n",
       "<style scoped>\n",
       "    .dataframe tbody tr th:only-of-type {\n",
       "        vertical-align: middle;\n",
       "    }\n",
       "\n",
       "    .dataframe tbody tr th {\n",
       "        vertical-align: top;\n",
       "    }\n",
       "\n",
       "    .dataframe thead th {\n",
       "        text-align: right;\n",
       "    }\n",
       "</style>\n",
       "<table border=\"1\" class=\"dataframe\">\n",
       "  <thead>\n",
       "    <tr style=\"text-align: right;\">\n",
       "      <th></th>\n",
       "      <th>tweet_id</th>\n",
       "      <th>timestamp</th>\n",
       "      <th>source</th>\n",
       "      <th>text</th>\n",
       "      <th>expanded_urls</th>\n",
       "      <th>rating_numerator</th>\n",
       "      <th>name</th>\n",
       "      <th>dog_stages</th>\n",
       "    </tr>\n",
       "  </thead>\n",
       "  <tbody>\n",
       "    <tr>\n",
       "      <th>545</th>\n",
       "      <td>805826884734976000</td>\n",
       "      <td>2016-12-05 17:31:15</td>\n",
       "      <td>Twitter for iPhone</td>\n",
       "      <td>This is Duke. He is not a fan of the pupporazz...</td>\n",
       "      <td>https://twitter.com/dog_rates/status/805826884...</td>\n",
       "      <td>12.0</td>\n",
       "      <td>Duke</td>\n",
       "      <td>NaN</td>\n",
       "    </tr>\n",
       "    <tr>\n",
       "      <th>998</th>\n",
       "      <td>748307329658011649</td>\n",
       "      <td>2016-06-30 00:09:04</td>\n",
       "      <td>Twitter for iPhone</td>\n",
       "      <td>This sherk must've leapt out of the water and ...</td>\n",
       "      <td>https://twitter.com/dog_rates/status/748307329...</td>\n",
       "      <td>7.0</td>\n",
       "      <td>None</td>\n",
       "      <td>NaN</td>\n",
       "    </tr>\n",
       "    <tr>\n",
       "      <th>1768</th>\n",
       "      <td>678389028614488064</td>\n",
       "      <td>2015-12-20 01:38:42</td>\n",
       "      <td>Twitter for iPhone</td>\n",
       "      <td>This is Bella. She just learned that her final...</td>\n",
       "      <td>https://twitter.com/dog_rates/status/678389028...</td>\n",
       "      <td>11.0</td>\n",
       "      <td>Bella</td>\n",
       "      <td>pupper</td>\n",
       "    </tr>\n",
       "    <tr>\n",
       "      <th>700</th>\n",
       "      <td>786233965241827333</td>\n",
       "      <td>2016-10-12 15:55:59</td>\n",
       "      <td>Twitter for iPhone</td>\n",
       "      <td>This is Mattie. She's extremely dangerous. Wil...</td>\n",
       "      <td>https://twitter.com/dog_rates/status/786233965...</td>\n",
       "      <td>11.0</td>\n",
       "      <td>Mattie</td>\n",
       "      <td>NaN</td>\n",
       "    </tr>\n",
       "    <tr>\n",
       "      <th>65</th>\n",
       "      <td>879492040517615616</td>\n",
       "      <td>2017-06-27 00:10:17</td>\n",
       "      <td>Twitter for iPhone</td>\n",
       "      <td>This is Bailey. He thinks you should measure e...</td>\n",
       "      <td>https://twitter.com/dog_rates/status/879492040...</td>\n",
       "      <td>12.0</td>\n",
       "      <td>Bailey</td>\n",
       "      <td>NaN</td>\n",
       "    </tr>\n",
       "    <tr>\n",
       "      <th>1550</th>\n",
       "      <td>689154315265683456</td>\n",
       "      <td>2016-01-18 18:36:07</td>\n",
       "      <td>Twitter for iPhone</td>\n",
       "      <td>We normally don't rate birds but I feel bad co...</td>\n",
       "      <td>https://twitter.com/dog_rates/status/689154315...</td>\n",
       "      <td>9.0</td>\n",
       "      <td>None</td>\n",
       "      <td>NaN</td>\n",
       "    </tr>\n",
       "    <tr>\n",
       "      <th>761</th>\n",
       "      <td>778286810187399168</td>\n",
       "      <td>2016-09-20 17:36:50</td>\n",
       "      <td>Twitter for iPhone</td>\n",
       "      <td>This is Stanley. He has too much skin. Isn't h...</td>\n",
       "      <td>https://twitter.com/dog_rates/status/778286810...</td>\n",
       "      <td>11.0</td>\n",
       "      <td>Stanley</td>\n",
       "      <td>NaN</td>\n",
       "    </tr>\n",
       "    <tr>\n",
       "      <th>670</th>\n",
       "      <td>789986466051088384</td>\n",
       "      <td>2016-10-23 00:27:05</td>\n",
       "      <td>Twitter for iPhone</td>\n",
       "      <td>This is Happy. He's a bathtub reviewer. Seems ...</td>\n",
       "      <td>https://twitter.com/dog_rates/status/789986466...</td>\n",
       "      <td>12.0</td>\n",
       "      <td>Happy</td>\n",
       "      <td>NaN</td>\n",
       "    </tr>\n",
       "    <tr>\n",
       "      <th>1245</th>\n",
       "      <td>711732680602345472</td>\n",
       "      <td>2016-03-21 01:54:29</td>\n",
       "      <td>Twitter for iPhone</td>\n",
       "      <td>I want to hear the joke this dog was just told...</td>\n",
       "      <td>https://twitter.com/dog_rates/status/711732680...</td>\n",
       "      <td>10.0</td>\n",
       "      <td>None</td>\n",
       "      <td>NaN</td>\n",
       "    </tr>\n",
       "    <tr>\n",
       "      <th>1118</th>\n",
       "      <td>732005617171337216</td>\n",
       "      <td>2016-05-16 00:31:53</td>\n",
       "      <td>Twitter for iPhone</td>\n",
       "      <td>This is Larry. He has no self control. Tongue ...</td>\n",
       "      <td>https://twitter.com/dog_rates/status/732005617...</td>\n",
       "      <td>11.0</td>\n",
       "      <td>Larry</td>\n",
       "      <td>NaN</td>\n",
       "    </tr>\n",
       "  </tbody>\n",
       "</table>\n",
       "</div>"
      ],
      "text/plain": [
       "                tweet_id           timestamp              source  \\\n",
       "545   805826884734976000 2016-12-05 17:31:15  Twitter for iPhone   \n",
       "998   748307329658011649 2016-06-30 00:09:04  Twitter for iPhone   \n",
       "1768  678389028614488064 2015-12-20 01:38:42  Twitter for iPhone   \n",
       "700   786233965241827333 2016-10-12 15:55:59  Twitter for iPhone   \n",
       "65    879492040517615616 2017-06-27 00:10:17  Twitter for iPhone   \n",
       "1550  689154315265683456 2016-01-18 18:36:07  Twitter for iPhone   \n",
       "761   778286810187399168 2016-09-20 17:36:50  Twitter for iPhone   \n",
       "670   789986466051088384 2016-10-23 00:27:05  Twitter for iPhone   \n",
       "1245  711732680602345472 2016-03-21 01:54:29  Twitter for iPhone   \n",
       "1118  732005617171337216 2016-05-16 00:31:53  Twitter for iPhone   \n",
       "\n",
       "                                                   text  \\\n",
       "545   This is Duke. He is not a fan of the pupporazz...   \n",
       "998   This sherk must've leapt out of the water and ...   \n",
       "1768  This is Bella. She just learned that her final...   \n",
       "700   This is Mattie. She's extremely dangerous. Wil...   \n",
       "65    This is Bailey. He thinks you should measure e...   \n",
       "1550  We normally don't rate birds but I feel bad co...   \n",
       "761   This is Stanley. He has too much skin. Isn't h...   \n",
       "670   This is Happy. He's a bathtub reviewer. Seems ...   \n",
       "1245  I want to hear the joke this dog was just told...   \n",
       "1118  This is Larry. He has no self control. Tongue ...   \n",
       "\n",
       "                                          expanded_urls  rating_numerator  \\\n",
       "545   https://twitter.com/dog_rates/status/805826884...              12.0   \n",
       "998   https://twitter.com/dog_rates/status/748307329...               7.0   \n",
       "1768  https://twitter.com/dog_rates/status/678389028...              11.0   \n",
       "700   https://twitter.com/dog_rates/status/786233965...              11.0   \n",
       "65    https://twitter.com/dog_rates/status/879492040...              12.0   \n",
       "1550  https://twitter.com/dog_rates/status/689154315...               9.0   \n",
       "761   https://twitter.com/dog_rates/status/778286810...              11.0   \n",
       "670   https://twitter.com/dog_rates/status/789986466...              12.0   \n",
       "1245  https://twitter.com/dog_rates/status/711732680...              10.0   \n",
       "1118  https://twitter.com/dog_rates/status/732005617...              11.0   \n",
       "\n",
       "         name dog_stages  \n",
       "545      Duke        NaN  \n",
       "998      None        NaN  \n",
       "1768    Bella     pupper  \n",
       "700    Mattie        NaN  \n",
       "65     Bailey        NaN  \n",
       "1550     None        NaN  \n",
       "761   Stanley        NaN  \n",
       "670     Happy        NaN  \n",
       "1245     None        NaN  \n",
       "1118    Larry        NaN  "
      ]
     },
     "execution_count": 37,
     "metadata": {},
     "output_type": "execute_result"
    }
   ],
   "source": [
    "#Test\n",
    "\n",
    "df_cleaned.sample(10)"
   ]
  },
  {
   "cell_type": "markdown",
   "metadata": {},
   "source": [
    "### Issue 3: \n",
    "The three datasets gathered for this analysis can be combined into one for deeper insights.\n",
    "\n",
    "### Define:\n",
    "The merge function will be used to combine all three datasets on tweet_id.\n",
    "\n",
    "\n",
    "### Code:"
   ]
  },
  {
   "cell_type": "code",
   "execution_count": 38,
   "metadata": {},
   "outputs": [
    {
     "data": {
      "text/html": [
       "<div>\n",
       "<style scoped>\n",
       "    .dataframe tbody tr th:only-of-type {\n",
       "        vertical-align: middle;\n",
       "    }\n",
       "\n",
       "    .dataframe tbody tr th {\n",
       "        vertical-align: top;\n",
       "    }\n",
       "\n",
       "    .dataframe thead th {\n",
       "        text-align: right;\n",
       "    }\n",
       "</style>\n",
       "<table border=\"1\" class=\"dataframe\">\n",
       "  <thead>\n",
       "    <tr style=\"text-align: right;\">\n",
       "      <th></th>\n",
       "      <th>tweet_id</th>\n",
       "      <th>timestamp</th>\n",
       "      <th>source</th>\n",
       "      <th>text</th>\n",
       "      <th>expanded_urls</th>\n",
       "      <th>rating_numerator</th>\n",
       "      <th>name</th>\n",
       "      <th>dog_stages</th>\n",
       "      <th>id</th>\n",
       "      <th>retweet_count</th>\n",
       "      <th>favorite_count</th>\n",
       "      <th>jpg_url</th>\n",
       "      <th>img_num</th>\n",
       "      <th>breed</th>\n",
       "      <th>prediction</th>\n",
       "    </tr>\n",
       "  </thead>\n",
       "  <tbody>\n",
       "    <tr>\n",
       "      <th>689</th>\n",
       "      <td>750101899009982464</td>\n",
       "      <td>2016-07-04 23:00:03</td>\n",
       "      <td>Twitter for iPhone</td>\n",
       "      <td>Meet Lilah. She agreed on one quick pic. Now s...</td>\n",
       "      <td>https://twitter.com/dog_rates/status/750101899...</td>\n",
       "      <td>11.0</td>\n",
       "      <td>Lilah</td>\n",
       "      <td>NaN</td>\n",
       "      <td>750101899009982464</td>\n",
       "      <td>959</td>\n",
       "      <td>3344</td>\n",
       "      <td>https://pbs.twimg.com/media/Cmjlsh1XgAEvhq_.jpg</td>\n",
       "      <td>2</td>\n",
       "      <td>golden_retriever</td>\n",
       "      <td>0.316704</td>\n",
       "    </tr>\n",
       "    <tr>\n",
       "      <th>1377</th>\n",
       "      <td>677565715327688705</td>\n",
       "      <td>2015-12-17 19:07:09</td>\n",
       "      <td>Twitter for iPhone</td>\n",
       "      <td>Contortionist pup here. Inside pentagram. Clea...</td>\n",
       "      <td>https://twitter.com/dog_rates/status/677565715...</td>\n",
       "      <td>6.0</td>\n",
       "      <td>None</td>\n",
       "      <td>NaN</td>\n",
       "      <td>677565715327688705</td>\n",
       "      <td>513</td>\n",
       "      <td>1409</td>\n",
       "      <td>https://pbs.twimg.com/media/CWcybBmWcAAigAQ.jpg</td>\n",
       "      <td>1</td>\n",
       "      <td>basset</td>\n",
       "      <td>0.397295</td>\n",
       "    </tr>\n",
       "    <tr>\n",
       "      <th>1885</th>\n",
       "      <td>666421158376562688</td>\n",
       "      <td>2015-11-17 01:02:40</td>\n",
       "      <td>Twitter for iPhone</td>\n",
       "      <td>*internally screaming* 12/10 https://t.co/YMcr...</td>\n",
       "      <td>https://twitter.com/dog_rates/status/666421158...</td>\n",
       "      <td>12.0</td>\n",
       "      <td>None</td>\n",
       "      <td>NaN</td>\n",
       "      <td>666421158376562688</td>\n",
       "      <td>118</td>\n",
       "      <td>327</td>\n",
       "      <td>https://pbs.twimg.com/media/CT-aggCXAAIMfT3.jpg</td>\n",
       "      <td>1</td>\n",
       "      <td>Blenheim_spaniel</td>\n",
       "      <td>0.906777</td>\n",
       "    </tr>\n",
       "    <tr>\n",
       "      <th>1630</th>\n",
       "      <td>671163268581498880</td>\n",
       "      <td>2015-11-30 03:06:07</td>\n",
       "      <td>Twitter for iPhone</td>\n",
       "      <td>Pack of horned dogs here. Very team-oriented b...</td>\n",
       "      <td>https://twitter.com/dog_rates/status/671163268...</td>\n",
       "      <td>8.0</td>\n",
       "      <td>None</td>\n",
       "      <td>NaN</td>\n",
       "      <td>671163268581498880</td>\n",
       "      <td>1198</td>\n",
       "      <td>1763</td>\n",
       "      <td>https://pbs.twimg.com/media/CVBzbWsWsAEyNMA.jpg</td>\n",
       "      <td>1</td>\n",
       "      <td>Scottish_deerhound</td>\n",
       "      <td>0.026983</td>\n",
       "    </tr>\n",
       "    <tr>\n",
       "      <th>1616</th>\n",
       "      <td>671511350426865664</td>\n",
       "      <td>2015-12-01 02:09:16</td>\n",
       "      <td>Twitter for iPhone</td>\n",
       "      <td>Say hello to Hammond. He's just a wee lil pup....</td>\n",
       "      <td>https://twitter.com/dog_rates/status/671511350...</td>\n",
       "      <td>8.0</td>\n",
       "      <td>Hammond</td>\n",
       "      <td>NaN</td>\n",
       "      <td>671511350426865664</td>\n",
       "      <td>791</td>\n",
       "      <td>1734</td>\n",
       "      <td>https://pbs.twimg.com/media/CVGwAh-W4AAIHJz.jpg</td>\n",
       "      <td>1</td>\n",
       "      <td>None</td>\n",
       "      <td>0.000000</td>\n",
       "    </tr>\n",
       "  </tbody>\n",
       "</table>\n",
       "</div>"
      ],
      "text/plain": [
       "                tweet_id           timestamp              source  \\\n",
       "689   750101899009982464 2016-07-04 23:00:03  Twitter for iPhone   \n",
       "1377  677565715327688705 2015-12-17 19:07:09  Twitter for iPhone   \n",
       "1885  666421158376562688 2015-11-17 01:02:40  Twitter for iPhone   \n",
       "1630  671163268581498880 2015-11-30 03:06:07  Twitter for iPhone   \n",
       "1616  671511350426865664 2015-12-01 02:09:16  Twitter for iPhone   \n",
       "\n",
       "                                                   text  \\\n",
       "689   Meet Lilah. She agreed on one quick pic. Now s...   \n",
       "1377  Contortionist pup here. Inside pentagram. Clea...   \n",
       "1885  *internally screaming* 12/10 https://t.co/YMcr...   \n",
       "1630  Pack of horned dogs here. Very team-oriented b...   \n",
       "1616  Say hello to Hammond. He's just a wee lil pup....   \n",
       "\n",
       "                                          expanded_urls  rating_numerator  \\\n",
       "689   https://twitter.com/dog_rates/status/750101899...              11.0   \n",
       "1377  https://twitter.com/dog_rates/status/677565715...               6.0   \n",
       "1885  https://twitter.com/dog_rates/status/666421158...              12.0   \n",
       "1630  https://twitter.com/dog_rates/status/671163268...               8.0   \n",
       "1616  https://twitter.com/dog_rates/status/671511350...               8.0   \n",
       "\n",
       "         name dog_stages                  id  retweet_count  favorite_count  \\\n",
       "689     Lilah        NaN  750101899009982464            959            3344   \n",
       "1377     None        NaN  677565715327688705            513            1409   \n",
       "1885     None        NaN  666421158376562688            118             327   \n",
       "1630     None        NaN  671163268581498880           1198            1763   \n",
       "1616  Hammond        NaN  671511350426865664            791            1734   \n",
       "\n",
       "                                              jpg_url  img_num  \\\n",
       "689   https://pbs.twimg.com/media/Cmjlsh1XgAEvhq_.jpg        2   \n",
       "1377  https://pbs.twimg.com/media/CWcybBmWcAAigAQ.jpg        1   \n",
       "1885  https://pbs.twimg.com/media/CT-aggCXAAIMfT3.jpg        1   \n",
       "1630  https://pbs.twimg.com/media/CVBzbWsWsAEyNMA.jpg        1   \n",
       "1616  https://pbs.twimg.com/media/CVGwAh-W4AAIHJz.jpg        1   \n",
       "\n",
       "                   breed  prediction  \n",
       "689     golden_retriever    0.316704  \n",
       "1377              basset    0.397295  \n",
       "1885    Blenheim_spaniel    0.906777  \n",
       "1630  Scottish_deerhound    0.026983  \n",
       "1616                None    0.000000  "
      ]
     },
     "execution_count": 38,
     "metadata": {},
     "output_type": "execute_result"
    }
   ],
   "source": [
    "twitter_archive_master = pd.merge(df_cleaned, df3_cleaned, left_on = 'tweet_id', right_on = 'id', how='left')\n",
    "twitter_archive_master = pd.merge(twitter_archive_master, image_cleaned, on = 'tweet_id' , how='inner')\n",
    "#test\n",
    "twitter_archive_master.sample(5)"
   ]
  },
  {
   "cell_type": "code",
   "execution_count": 39,
   "metadata": {},
   "outputs": [
    {
     "name": "stdout",
     "output_type": "stream",
     "text": [
      "<class 'pandas.core.frame.DataFrame'>\n",
      "Int64Index: 1917 entries, 0 to 1916\n",
      "Data columns (total 14 columns):\n",
      "tweet_id            1917 non-null int64\n",
      "timestamp           1917 non-null datetime64[ns]\n",
      "source              1917 non-null object\n",
      "text                1917 non-null object\n",
      "expanded_urls       1917 non-null object\n",
      "rating_numerator    1917 non-null float64\n",
      "name                1917 non-null object\n",
      "dog_stages          303 non-null object\n",
      "retweet_count       1917 non-null int64\n",
      "favorite_count      1917 non-null int64\n",
      "jpg_url             1917 non-null object\n",
      "img_num             1917 non-null int64\n",
      "breed               1917 non-null object\n",
      "prediction          1917 non-null float64\n",
      "dtypes: datetime64[ns](1), float64(2), int64(4), object(7)\n",
      "memory usage: 224.6+ KB\n"
     ]
    }
   ],
   "source": [
    "#drop redundant id column\n",
    "\n",
    "drop_col_row(twitter_archive_master, 'id', axis =1)\n",
    "\n",
    "twitter_archive_master.info()"
   ]
  },
  {
   "cell_type": "code",
   "execution_count": 40,
   "metadata": {},
   "outputs": [
    {
     "name": "stdout",
     "output_type": "stream",
     "text": [
      "<class 'pandas.core.frame.DataFrame'>\n",
      "Int64Index: 1917 entries, 0 to 1916\n",
      "Data columns (total 14 columns):\n",
      "tweet_id            1917 non-null int64\n",
      "timestamp           1917 non-null datetime64[ns]\n",
      "source              1917 non-null object\n",
      "text                1917 non-null object\n",
      "expanded_urls       1917 non-null object\n",
      "rating_numerator    1917 non-null float64\n",
      "name                1917 non-null object\n",
      "dog_stages          303 non-null object\n",
      "retweet_count       1917 non-null int64\n",
      "favorite_count      1917 non-null int64\n",
      "jpg_url             1917 non-null object\n",
      "img_num             1917 non-null int64\n",
      "breed               1917 non-null object\n",
      "prediction          1917 non-null float64\n",
      "dtypes: datetime64[ns](1), float64(2), int64(4), object(7)\n",
      "memory usage: 224.6+ KB\n"
     ]
    }
   ],
   "source": [
    "#Test\n",
    "twitter_archive_master.info()"
   ]
  },
  {
   "cell_type": "markdown",
   "metadata": {},
   "source": [
    "## Storing Data\n",
    "Save gathered, assessed, and cleaned master dataset to a CSV file named \"twitter_archive_master.csv\"."
   ]
  },
  {
   "cell_type": "code",
   "execution_count": 41,
   "metadata": {},
   "outputs": [],
   "source": [
    "twitter_archive_master.to_csv('twitter_archive_master.csv', index = False)"
   ]
  },
  {
   "cell_type": "markdown",
   "metadata": {},
   "source": [
    "## Analyzing and Visualizing Data\n",
    "In this section, analyze and visualize your wrangled data. You must produce at least **three (3) insights and one (1) visualization.**"
   ]
  },
  {
   "cell_type": "code",
   "execution_count": 42,
   "metadata": {},
   "outputs": [
    {
     "data": {
      "image/png": "[encoded data removed]",
      "text/plain": [
       "<matplotlib.figure.Figure at 0x7f0e583bd5f8>"
      ]
     },
     "metadata": {
      "needs_background": "light"
     },
     "output_type": "display_data"
    }
   ],
   "source": [
    "#The code below is to have a general overview of the distribution of the relevant data columns\n",
    "twitter_archive_master[['favorite_count','prediction', 'retweet_count']].hist(figsize =(12,12));\n"
   ]
  },
  {
   "cell_type": "code",
   "execution_count": 43,
   "metadata": {},
   "outputs": [
    {
     "data": {
      "image/png": "[encoded data removed]",
      "text/plain": [
       "<matplotlib.figure.Figure at 0x7f0e5337ceb8>"
      ]
     },
     "metadata": {
      "needs_background": "light"
     },
     "output_type": "display_data"
    }
   ],
   "source": [
    "# I am interested in seeing which of the tweet sources appeared the most in this dataset\n",
    "popular_sources = twitter_archive_master['source'].value_counts()\n",
    "popular_sources.plot(kind = 'bar', title = 'Top Tweet Sources - WeRateDogs', figsize = (6,6));\n",
    "plt.ylabel('Frequency');\n"
   ]
  },
  {
   "cell_type": "code",
   "execution_count": 44,
   "metadata": {},
   "outputs": [
    {
     "data": {
      "image/png": "[encoded data removed]",
      "text/plain": [
       "<matplotlib.figure.Figure at 0x7f0e5300fda0>"
      ]
     },
     "metadata": {
      "needs_background": "light"
     },
     "output_type": "display_data"
    }
   ],
   "source": [
    "#I would like to see the most popular breeds in these ratings\n",
    "popular_breeds = twitter_archive_master['breed'].value_counts().sort_values(ascending = False).head(20)\n",
    "popular_breeds.plot(kind = 'bar', title = 'Top 20 Breeds Rated - WeRateDogs', figsize = (12,6));\n",
    "plt.ylabel('Frequency');\n"
   ]
  },
  {
   "cell_type": "code",
   "execution_count": 45,
   "metadata": {},
   "outputs": [
    {
     "data": {
      "text/plain": [
       "Text(0.5,0,'Breed')"
      ]
     },
     "execution_count": 45,
     "metadata": {},
     "output_type": "execute_result"
    },
    {
     "data": {
      "image/png": "[encoded data removed]",
      "text/plain": [
       "<matplotlib.figure.Figure at 0x7f0e5300f828>"
      ]
     },
     "metadata": {
      "needs_background": "light"
     },
     "output_type": "display_data"
    }
   ],
   "source": [
    "#I would also like to see the breed with the highest average rating\n",
    "\n",
    "df_highest_ratings = twitter_archive_master.groupby('breed').rating_numerator.mean()\n",
    "df_highest_ratings = df_highest_ratings.to_frame()\n",
    "df_highest_ratings.reset_index(inplace = True)\n",
    "df_highest_ratings.sort_values('rating_numerator', ascending = False).head(20).plot(x = 'breed', y = 'rating_numerator', kind = 'bar', title = 'Highest Rated Breeds', figsize = (12,6));\n",
    "plt.ylabel('Average Rating')\n",
    "plt.xlabel(\"Breed\")\n"
   ]
  },
  {
   "cell_type": "markdown",
   "metadata": {},
   "source": [
    "### Insights:\n",
    "1. Most of the tweets that make up the ratings were made from an iPhone.\n",
    "\n",
    "2. Golden Retreiver Dogs appeared the most in the ratings if the uncategorised dog breeds are not considered. However, given the amount of dogs with unspecified breeds, it may be very difficult to pick a winner here.\n",
    "\n",
    "3. Soft coated wheaten terrier dogs received the highest ratings on average.\n",
    "\n",
    "4. From the histograms, favourite count above 20,000 and Retweet count above 10,000 on original tweets about dog ratings are not fairly common."
   ]
  },
  {
   "cell_type": "code",
   "execution_count": 46,
   "metadata": {},
   "outputs": [
    {
     "data": {
      "text/html": [
       "<div>\n",
       "<style scoped>\n",
       "    .dataframe tbody tr th:only-of-type {\n",
       "        vertical-align: middle;\n",
       "    }\n",
       "\n",
       "    .dataframe tbody tr th {\n",
       "        vertical-align: top;\n",
       "    }\n",
       "\n",
       "    .dataframe thead th {\n",
       "        text-align: right;\n",
       "    }\n",
       "</style>\n",
       "<table border=\"1\" class=\"dataframe\">\n",
       "  <thead>\n",
       "    <tr style=\"text-align: right;\">\n",
       "      <th></th>\n",
       "      <th>tweet_id</th>\n",
       "      <th>timestamp</th>\n",
       "      <th>source</th>\n",
       "      <th>text</th>\n",
       "      <th>expanded_urls</th>\n",
       "      <th>rating_numerator</th>\n",
       "      <th>name</th>\n",
       "      <th>dog_stages</th>\n",
       "      <th>retweet_count</th>\n",
       "      <th>favorite_count</th>\n",
       "      <th>jpg_url</th>\n",
       "      <th>img_num</th>\n",
       "      <th>breed</th>\n",
       "      <th>prediction</th>\n",
       "    </tr>\n",
       "  </thead>\n",
       "  <tbody>\n",
       "    <tr>\n",
       "      <th>1688</th>\n",
       "      <td>670411370698022913</td>\n",
       "      <td>2015-11-28 01:18:21</td>\n",
       "      <td>Twitter for iPhone</td>\n",
       "      <td>Meet Scooter. He's ready for his first day of ...</td>\n",
       "      <td>https://twitter.com/dog_rates/status/670411370...</td>\n",
       "      <td>12.0</td>\n",
       "      <td>Scooter</td>\n",
       "      <td>NaN</td>\n",
       "      <td>991</td>\n",
       "      <td>2176</td>\n",
       "      <td>https://pbs.twimg.com/media/CU3HlZtW4AAezbt.jpg</td>\n",
       "      <td>1</td>\n",
       "      <td>Maltese_dog</td>\n",
       "      <td>0.584397</td>\n",
       "    </tr>\n",
       "    <tr>\n",
       "      <th>14</th>\n",
       "      <td>889531135344209921</td>\n",
       "      <td>2017-07-24 17:02:04</td>\n",
       "      <td>Twitter for iPhone</td>\n",
       "      <td>This is Stuart. He's sporting his favorite fan...</td>\n",
       "      <td>https://twitter.com/dog_rates/status/889531135...</td>\n",
       "      <td>13.0</td>\n",
       "      <td>Stuart</td>\n",
       "      <td>puppo</td>\n",
       "      <td>2321</td>\n",
       "      <td>15359</td>\n",
       "      <td>https://pbs.twimg.com/media/DFg_2PVW0AEHN3p.jpg</td>\n",
       "      <td>1</td>\n",
       "      <td>golden_retriever</td>\n",
       "      <td>0.953442</td>\n",
       "    </tr>\n",
       "    <tr>\n",
       "      <th>1453</th>\n",
       "      <td>675145476954566656</td>\n",
       "      <td>2015-12-11 02:49:59</td>\n",
       "      <td>Twitter for iPhone</td>\n",
       "      <td>What an honor. 3 dogs here. Blond one is clear...</td>\n",
       "      <td>https://twitter.com/dog_rates/status/675145476...</td>\n",
       "      <td>9.0</td>\n",
       "      <td>None</td>\n",
       "      <td>NaN</td>\n",
       "      <td>1011</td>\n",
       "      <td>2305</td>\n",
       "      <td>https://pbs.twimg.com/media/CV6ZOPqWsAA20Uj.jpg</td>\n",
       "      <td>1</td>\n",
       "      <td>Labrador_retriever</td>\n",
       "      <td>0.458746</td>\n",
       "    </tr>\n",
       "    <tr>\n",
       "      <th>1399</th>\n",
       "      <td>676819651066732545</td>\n",
       "      <td>2015-12-15 17:42:34</td>\n",
       "      <td>Twitter for iPhone</td>\n",
       "      <td>Watch out Airbud. This pupper is also good at ...</td>\n",
       "      <td>https://twitter.com/dog_rates/status/676819651...</td>\n",
       "      <td>12.0</td>\n",
       "      <td>None</td>\n",
       "      <td>pupper</td>\n",
       "      <td>741</td>\n",
       "      <td>1957</td>\n",
       "      <td>https://pbs.twimg.com/media/CWSL4W8WsAAE4KU.jpg</td>\n",
       "      <td>2</td>\n",
       "      <td>Labrador_retriever</td>\n",
       "      <td>0.039465</td>\n",
       "    </tr>\n",
       "    <tr>\n",
       "      <th>801</th>\n",
       "      <td>733460102733135873</td>\n",
       "      <td>2016-05-20 00:51:30</td>\n",
       "      <td>Twitter for iPhone</td>\n",
       "      <td>This is Hermione. Her face is as old as time. ...</td>\n",
       "      <td>https://twitter.com/dog_rates/status/733460102...</td>\n",
       "      <td>11.0</td>\n",
       "      <td>Hermione</td>\n",
       "      <td>NaN</td>\n",
       "      <td>1451</td>\n",
       "      <td>4605</td>\n",
       "      <td>https://pbs.twimg.com/media/Ci3GDeyUoAAKOxn.jpg</td>\n",
       "      <td>1</td>\n",
       "      <td>chow</td>\n",
       "      <td>0.931275</td>\n",
       "    </tr>\n",
       "    <tr>\n",
       "      <th>872</th>\n",
       "      <td>718454725339934721</td>\n",
       "      <td>2016-04-08 15:05:29</td>\n",
       "      <td>Twitter for iPhone</td>\n",
       "      <td>This pic is old but I hadn't seen it until tod...</td>\n",
       "      <td>https://twitter.com/dog_rates/status/718454725...</td>\n",
       "      <td>13.0</td>\n",
       "      <td>None</td>\n",
       "      <td>NaN</td>\n",
       "      <td>1685</td>\n",
       "      <td>5320</td>\n",
       "      <td>https://pbs.twimg.com/media/Cfh2w6HWIAIIYAF.jpg</td>\n",
       "      <td>1</td>\n",
       "      <td>None</td>\n",
       "      <td>0.000000</td>\n",
       "    </tr>\n",
       "    <tr>\n",
       "      <th>1475</th>\n",
       "      <td>674664755118911488</td>\n",
       "      <td>2015-12-09 18:59:46</td>\n",
       "      <td>Twitter for iPhone</td>\n",
       "      <td>This is Rodman. He's getting destroyed by the ...</td>\n",
       "      <td>https://twitter.com/dog_rates/status/674664755...</td>\n",
       "      <td>10.0</td>\n",
       "      <td>Rodman</td>\n",
       "      <td>NaN</td>\n",
       "      <td>276</td>\n",
       "      <td>994</td>\n",
       "      <td>https://pbs.twimg.com/media/CVzkA7-WsAAcXz6.jpg</td>\n",
       "      <td>1</td>\n",
       "      <td>None</td>\n",
       "      <td>0.000000</td>\n",
       "    </tr>\n",
       "    <tr>\n",
       "      <th>920</th>\n",
       "      <td>711008018775851008</td>\n",
       "      <td>2016-03-19 01:54:56</td>\n",
       "      <td>Twitter for iPhone</td>\n",
       "      <td>This is Chuckles. He had a balloon but he acci...</td>\n",
       "      <td>https://twitter.com/dog_rates/status/711008018...</td>\n",
       "      <td>11.0</td>\n",
       "      <td>Chuckles</td>\n",
       "      <td>pupper</td>\n",
       "      <td>710</td>\n",
       "      <td>3275</td>\n",
       "      <td>https://pbs.twimg.com/media/Cd4CBQFW8AAY3ND.jpg</td>\n",
       "      <td>1</td>\n",
       "      <td>French_bulldog</td>\n",
       "      <td>0.731405</td>\n",
       "    </tr>\n",
       "    <tr>\n",
       "      <th>52</th>\n",
       "      <td>880221127280381952</td>\n",
       "      <td>2017-06-29 00:27:25</td>\n",
       "      <td>Twitter for iPhone</td>\n",
       "      <td>Meet Jesse. He's a Fetty Woof. His tongue ejec...</td>\n",
       "      <td>https://twitter.com/dog_rates/status/880221127...</td>\n",
       "      <td>12.0</td>\n",
       "      <td>Jesse</td>\n",
       "      <td>NaN</td>\n",
       "      <td>4436</td>\n",
       "      <td>27640</td>\n",
       "      <td>https://pbs.twimg.com/media/DDcscbXU0AIfDzs.jpg</td>\n",
       "      <td>1</td>\n",
       "      <td>Chihuahua</td>\n",
       "      <td>0.238525</td>\n",
       "    </tr>\n",
       "    <tr>\n",
       "      <th>889</th>\n",
       "      <td>715342466308784130</td>\n",
       "      <td>2016-03-31 00:58:29</td>\n",
       "      <td>Twitter for iPhone</td>\n",
       "      <td>This is Oscar. He's a world renowned snowball ...</td>\n",
       "      <td>https://twitter.com/dog_rates/status/715342466...</td>\n",
       "      <td>10.0</td>\n",
       "      <td>Oscar</td>\n",
       "      <td>NaN</td>\n",
       "      <td>768</td>\n",
       "      <td>3294</td>\n",
       "      <td>https://pbs.twimg.com/media/Ce1oLNqWAAE34w7.jpg</td>\n",
       "      <td>1</td>\n",
       "      <td>West_Highland_white_terrier</td>\n",
       "      <td>0.597111</td>\n",
       "    </tr>\n",
       "    <tr>\n",
       "      <th>1724</th>\n",
       "      <td>669583744538451968</td>\n",
       "      <td>2015-11-25 18:29:39</td>\n",
       "      <td>Twitter for iPhone</td>\n",
       "      <td>Special dog here. Pretty big. Neck kinda long ...</td>\n",
       "      <td>https://twitter.com/dog_rates/status/669583744...</td>\n",
       "      <td>6.0</td>\n",
       "      <td>None</td>\n",
       "      <td>NaN</td>\n",
       "      <td>1017</td>\n",
       "      <td>1587</td>\n",
       "      <td>https://pbs.twimg.com/media/CUrW3DWXIAAiRqk.jpg</td>\n",
       "      <td>1</td>\n",
       "      <td>None</td>\n",
       "      <td>0.000000</td>\n",
       "    </tr>\n",
       "    <tr>\n",
       "      <th>712</th>\n",
       "      <td>748346686624440324</td>\n",
       "      <td>2016-06-30 02:45:28</td>\n",
       "      <td>Twitter for iPhone</td>\n",
       "      <td>\"So... we meat again\" (I'm so sorry for that p...</td>\n",
       "      <td>https://twitter.com/dog_rates/status/748346686...</td>\n",
       "      <td>10.0</td>\n",
       "      <td>None</td>\n",
       "      <td>NaN</td>\n",
       "      <td>1413</td>\n",
       "      <td>5735</td>\n",
       "      <td>https://pbs.twimg.com/media/CmKpVtlWAAEnyHm.jpg</td>\n",
       "      <td>1</td>\n",
       "      <td>borzoi</td>\n",
       "      <td>0.596455</td>\n",
       "    </tr>\n",
       "    <tr>\n",
       "      <th>1779</th>\n",
       "      <td>668542336805281792</td>\n",
       "      <td>2015-11-22 21:31:28</td>\n",
       "      <td>Twitter for iPhone</td>\n",
       "      <td>There's a lot going on here but in my honest o...</td>\n",
       "      <td>https://twitter.com/dog_rates/status/668542336...</td>\n",
       "      <td>10.0</td>\n",
       "      <td>None</td>\n",
       "      <td>NaN</td>\n",
       "      <td>231</td>\n",
       "      <td>497</td>\n",
       "      <td>https://pbs.twimg.com/media/CUcjtL8WUAAAJoz.jpg</td>\n",
       "      <td>1</td>\n",
       "      <td>American_Staffordshire_terrier</td>\n",
       "      <td>0.267695</td>\n",
       "    </tr>\n",
       "    <tr>\n",
       "      <th>1717</th>\n",
       "      <td>669683899023405056</td>\n",
       "      <td>2015-11-26 01:07:38</td>\n",
       "      <td>Twitter for iPhone</td>\n",
       "      <td>This is Kloey. Her mother was a unicorn. 10/10...</td>\n",
       "      <td>https://twitter.com/dog_rates/status/669683899...</td>\n",
       "      <td>10.0</td>\n",
       "      <td>Kloey</td>\n",
       "      <td>NaN</td>\n",
       "      <td>119</td>\n",
       "      <td>412</td>\n",
       "      <td>https://pbs.twimg.com/media/CUsx8q_WUAA-m4k.jpg</td>\n",
       "      <td>1</td>\n",
       "      <td>Pomeranian</td>\n",
       "      <td>0.998275</td>\n",
       "    </tr>\n",
       "    <tr>\n",
       "      <th>385</th>\n",
       "      <td>805520635690676224</td>\n",
       "      <td>2016-12-04 21:14:20</td>\n",
       "      <td>Twitter for iPhone</td>\n",
       "      <td>This is Zeke the Wonder Dog. He never let that...</td>\n",
       "      <td>https://twitter.com/dog_rates/status/805520635...</td>\n",
       "      <td>13.0</td>\n",
       "      <td>Zeke</td>\n",
       "      <td>NaN</td>\n",
       "      <td>1905</td>\n",
       "      <td>6368</td>\n",
       "      <td>https://pbs.twimg.com/media/Cy3IvdZXgAUoEaj.jpg</td>\n",
       "      <td>1</td>\n",
       "      <td>malinois</td>\n",
       "      <td>0.643147</td>\n",
       "    </tr>\n",
       "    <tr>\n",
       "      <th>664</th>\n",
       "      <td>753294487569522689</td>\n",
       "      <td>2016-07-13 18:26:16</td>\n",
       "      <td>Twitter for iPhone</td>\n",
       "      <td>This is Ace. He's a window washer. One of the ...</td>\n",
       "      <td>https://twitter.com/dog_rates/status/753294487...</td>\n",
       "      <td>11.0</td>\n",
       "      <td>Ace</td>\n",
       "      <td>NaN</td>\n",
       "      <td>1191</td>\n",
       "      <td>3758</td>\n",
       "      <td>https://pbs.twimg.com/media/CnQ9Vq1WEAEYP01.jpg</td>\n",
       "      <td>1</td>\n",
       "      <td>chow</td>\n",
       "      <td>0.194773</td>\n",
       "    </tr>\n",
       "    <tr>\n",
       "      <th>1368</th>\n",
       "      <td>677895101218201600</td>\n",
       "      <td>2015-12-18 16:56:01</td>\n",
       "      <td>Twitter for iPhone</td>\n",
       "      <td>Guys this was terrifying. Really spooked me up...</td>\n",
       "      <td>https://twitter.com/dog_rates/status/677895101...</td>\n",
       "      <td>9.0</td>\n",
       "      <td>None</td>\n",
       "      <td>NaN</td>\n",
       "      <td>2384</td>\n",
       "      <td>5275</td>\n",
       "      <td>https://pbs.twimg.com/media/CWhd_7WWsAAaqWG.jpg</td>\n",
       "      <td>1</td>\n",
       "      <td>dalmatian</td>\n",
       "      <td>0.550702</td>\n",
       "    </tr>\n",
       "    <tr>\n",
       "      <th>608</th>\n",
       "      <td>761976711479193600</td>\n",
       "      <td>2016-08-06 17:26:19</td>\n",
       "      <td>Twitter for iPhone</td>\n",
       "      <td>This is Shelby. She finds stuff to put on her ...</td>\n",
       "      <td>https://twitter.com/dog_rates/status/761976711...</td>\n",
       "      <td>12.0</td>\n",
       "      <td>Shelby</td>\n",
       "      <td>NaN</td>\n",
       "      <td>2310</td>\n",
       "      <td>5992</td>\n",
       "      <td>https://pbs.twimg.com/media/CpMVxoRXgAAh350.jpg</td>\n",
       "      <td>3</td>\n",
       "      <td>Labrador_retriever</td>\n",
       "      <td>0.475552</td>\n",
       "    </tr>\n",
       "    <tr>\n",
       "      <th>433</th>\n",
       "      <td>793962221541933056</td>\n",
       "      <td>2016-11-02 23:45:19</td>\n",
       "      <td>Twitter for iPhone</td>\n",
       "      <td>This is Maximus. His face is stuck like that. ...</td>\n",
       "      <td>https://twitter.com/dog_rates/status/793962221...</td>\n",
       "      <td>12.0</td>\n",
       "      <td>Maximus</td>\n",
       "      <td>NaN</td>\n",
       "      <td>5711</td>\n",
       "      <td>18910</td>\n",
       "      <td>https://pbs.twimg.com/media/CwS4aqZXUAAe3IO.jpg</td>\n",
       "      <td>1</td>\n",
       "      <td>Labrador_retriever</td>\n",
       "      <td>0.861651</td>\n",
       "    </tr>\n",
       "    <tr>\n",
       "      <th>1514</th>\n",
       "      <td>673708611235921920</td>\n",
       "      <td>2015-12-07 03:40:24</td>\n",
       "      <td>Twitter for iPhone</td>\n",
       "      <td>This is Riley. She's just an adorable football...</td>\n",
       "      <td>https://twitter.com/dog_rates/status/673708611...</td>\n",
       "      <td>12.0</td>\n",
       "      <td>Riley</td>\n",
       "      <td>NaN</td>\n",
       "      <td>315</td>\n",
       "      <td>1153</td>\n",
       "      <td>https://pbs.twimg.com/media/CVl-Z0dWcAAs7wr.jpg</td>\n",
       "      <td>1</td>\n",
       "      <td>golden_retriever</td>\n",
       "      <td>0.936333</td>\n",
       "    </tr>\n",
       "  </tbody>\n",
       "</table>\n",
       "</div>"
      ],
      "text/plain": [
       "                tweet_id           timestamp              source  \\\n",
       "1688  670411370698022913 2015-11-28 01:18:21  Twitter for iPhone   \n",
       "14    889531135344209921 2017-07-24 17:02:04  Twitter for iPhone   \n",
       "1453  675145476954566656 2015-12-11 02:49:59  Twitter for iPhone   \n",
       "1399  676819651066732545 2015-12-15 17:42:34  Twitter for iPhone   \n",
       "801   733460102733135873 2016-05-20 00:51:30  Twitter for iPhone   \n",
       "872   718454725339934721 2016-04-08 15:05:29  Twitter for iPhone   \n",
       "1475  674664755118911488 2015-12-09 18:59:46  Twitter for iPhone   \n",
       "920   711008018775851008 2016-03-19 01:54:56  Twitter for iPhone   \n",
       "52    880221127280381952 2017-06-29 00:27:25  Twitter for iPhone   \n",
       "889   715342466308784130 2016-03-31 00:58:29  Twitter for iPhone   \n",
       "1724  669583744538451968 2015-11-25 18:29:39  Twitter for iPhone   \n",
       "712   748346686624440324 2016-06-30 02:45:28  Twitter for iPhone   \n",
       "1779  668542336805281792 2015-11-22 21:31:28  Twitter for iPhone   \n",
       "1717  669683899023405056 2015-11-26 01:07:38  Twitter for iPhone   \n",
       "385   805520635690676224 2016-12-04 21:14:20  Twitter for iPhone   \n",
       "664   753294487569522689 2016-07-13 18:26:16  Twitter for iPhone   \n",
       "1368  677895101218201600 2015-12-18 16:56:01  Twitter for iPhone   \n",
       "608   761976711479193600 2016-08-06 17:26:19  Twitter for iPhone   \n",
       "433   793962221541933056 2016-11-02 23:45:19  Twitter for iPhone   \n",
       "1514  673708611235921920 2015-12-07 03:40:24  Twitter for iPhone   \n",
       "\n",
       "                                                   text  \\\n",
       "1688  Meet Scooter. He's ready for his first day of ...   \n",
       "14    This is Stuart. He's sporting his favorite fan...   \n",
       "1453  What an honor. 3 dogs here. Blond one is clear...   \n",
       "1399  Watch out Airbud. This pupper is also good at ...   \n",
       "801   This is Hermione. Her face is as old as time. ...   \n",
       "872   This pic is old but I hadn't seen it until tod...   \n",
       "1475  This is Rodman. He's getting destroyed by the ...   \n",
       "920   This is Chuckles. He had a balloon but he acci...   \n",
       "52    Meet Jesse. He's a Fetty Woof. His tongue ejec...   \n",
       "889   This is Oscar. He's a world renowned snowball ...   \n",
       "1724  Special dog here. Pretty big. Neck kinda long ...   \n",
       "712   \"So... we meat again\" (I'm so sorry for that p...   \n",
       "1779  There's a lot going on here but in my honest o...   \n",
       "1717  This is Kloey. Her mother was a unicorn. 10/10...   \n",
       "385   This is Zeke the Wonder Dog. He never let that...   \n",
       "664   This is Ace. He's a window washer. One of the ...   \n",
       "1368  Guys this was terrifying. Really spooked me up...   \n",
       "608   This is Shelby. She finds stuff to put on her ...   \n",
       "433   This is Maximus. His face is stuck like that. ...   \n",
       "1514  This is Riley. She's just an adorable football...   \n",
       "\n",
       "                                          expanded_urls  rating_numerator  \\\n",
       "1688  https://twitter.com/dog_rates/status/670411370...              12.0   \n",
       "14    https://twitter.com/dog_rates/status/889531135...              13.0   \n",
       "1453  https://twitter.com/dog_rates/status/675145476...               9.0   \n",
       "1399  https://twitter.com/dog_rates/status/676819651...              12.0   \n",
       "801   https://twitter.com/dog_rates/status/733460102...              11.0   \n",
       "872   https://twitter.com/dog_rates/status/718454725...              13.0   \n",
       "1475  https://twitter.com/dog_rates/status/674664755...              10.0   \n",
       "920   https://twitter.com/dog_rates/status/711008018...              11.0   \n",
       "52    https://twitter.com/dog_rates/status/880221127...              12.0   \n",
       "889   https://twitter.com/dog_rates/status/715342466...              10.0   \n",
       "1724  https://twitter.com/dog_rates/status/669583744...               6.0   \n",
       "712   https://twitter.com/dog_rates/status/748346686...              10.0   \n",
       "1779  https://twitter.com/dog_rates/status/668542336...              10.0   \n",
       "1717  https://twitter.com/dog_rates/status/669683899...              10.0   \n",
       "385   https://twitter.com/dog_rates/status/805520635...              13.0   \n",
       "664   https://twitter.com/dog_rates/status/753294487...              11.0   \n",
       "1368  https://twitter.com/dog_rates/status/677895101...               9.0   \n",
       "608   https://twitter.com/dog_rates/status/761976711...              12.0   \n",
       "433   https://twitter.com/dog_rates/status/793962221...              12.0   \n",
       "1514  https://twitter.com/dog_rates/status/673708611...              12.0   \n",
       "\n",
       "          name dog_stages  retweet_count  favorite_count  \\\n",
       "1688   Scooter        NaN            991            2176   \n",
       "14      Stuart      puppo           2321           15359   \n",
       "1453      None        NaN           1011            2305   \n",
       "1399      None     pupper            741            1957   \n",
       "801   Hermione        NaN           1451            4605   \n",
       "872       None        NaN           1685            5320   \n",
       "1475    Rodman        NaN            276             994   \n",
       "920   Chuckles     pupper            710            3275   \n",
       "52       Jesse        NaN           4436           27640   \n",
       "889      Oscar        NaN            768            3294   \n",
       "1724      None        NaN           1017            1587   \n",
       "712       None        NaN           1413            5735   \n",
       "1779      None        NaN            231             497   \n",
       "1717     Kloey        NaN            119             412   \n",
       "385       Zeke        NaN           1905            6368   \n",
       "664        Ace        NaN           1191            3758   \n",
       "1368      None        NaN           2384            5275   \n",
       "608     Shelby        NaN           2310            5992   \n",
       "433    Maximus        NaN           5711           18910   \n",
       "1514     Riley        NaN            315            1153   \n",
       "\n",
       "                                              jpg_url  img_num  \\\n",
       "1688  https://pbs.twimg.com/media/CU3HlZtW4AAezbt.jpg        1   \n",
       "14    https://pbs.twimg.com/media/DFg_2PVW0AEHN3p.jpg        1   \n",
       "1453  https://pbs.twimg.com/media/CV6ZOPqWsAA20Uj.jpg        1   \n",
       "1399  https://pbs.twimg.com/media/CWSL4W8WsAAE4KU.jpg        2   \n",
       "801   https://pbs.twimg.com/media/Ci3GDeyUoAAKOxn.jpg        1   \n",
       "872   https://pbs.twimg.com/media/Cfh2w6HWIAIIYAF.jpg        1   \n",
       "1475  https://pbs.twimg.com/media/CVzkA7-WsAAcXz6.jpg        1   \n",
       "920   https://pbs.twimg.com/media/Cd4CBQFW8AAY3ND.jpg        1   \n",
       "52    https://pbs.twimg.com/media/DDcscbXU0AIfDzs.jpg        1   \n",
       "889   https://pbs.twimg.com/media/Ce1oLNqWAAE34w7.jpg        1   \n",
       "1724  https://pbs.twimg.com/media/CUrW3DWXIAAiRqk.jpg        1   \n",
       "712   https://pbs.twimg.com/media/CmKpVtlWAAEnyHm.jpg        1   \n",
       "1779  https://pbs.twimg.com/media/CUcjtL8WUAAAJoz.jpg        1   \n",
       "1717  https://pbs.twimg.com/media/CUsx8q_WUAA-m4k.jpg        1   \n",
       "385   https://pbs.twimg.com/media/Cy3IvdZXgAUoEaj.jpg        1   \n",
       "664   https://pbs.twimg.com/media/CnQ9Vq1WEAEYP01.jpg        1   \n",
       "1368  https://pbs.twimg.com/media/CWhd_7WWsAAaqWG.jpg        1   \n",
       "608   https://pbs.twimg.com/media/CpMVxoRXgAAh350.jpg        3   \n",
       "433   https://pbs.twimg.com/media/CwS4aqZXUAAe3IO.jpg        1   \n",
       "1514  https://pbs.twimg.com/media/CVl-Z0dWcAAs7wr.jpg        1   \n",
       "\n",
       "                               breed  prediction  \n",
       "1688                     Maltese_dog    0.584397  \n",
       "14                  golden_retriever    0.953442  \n",
       "1453              Labrador_retriever    0.458746  \n",
       "1399              Labrador_retriever    0.039465  \n",
       "801                             chow    0.931275  \n",
       "872                             None    0.000000  \n",
       "1475                            None    0.000000  \n",
       "920                   French_bulldog    0.731405  \n",
       "52                         Chihuahua    0.238525  \n",
       "889      West_Highland_white_terrier    0.597111  \n",
       "1724                            None    0.000000  \n",
       "712                           borzoi    0.596455  \n",
       "1779  American_Staffordshire_terrier    0.267695  \n",
       "1717                      Pomeranian    0.998275  \n",
       "385                         malinois    0.643147  \n",
       "664                             chow    0.194773  \n",
       "1368                       dalmatian    0.550702  \n",
       "608               Labrador_retriever    0.475552  \n",
       "433               Labrador_retriever    0.861651  \n",
       "1514                golden_retriever    0.936333  "
      ]
     },
     "execution_count": 46,
     "metadata": {},
     "output_type": "execute_result"
    }
   ],
   "source": [
    "twitter_archive_master.sample(20)"
   ]
  },
  {
   "cell_type": "code",
   "execution_count": 48,
   "metadata": {},
   "outputs": [],
   "source": [
    "image.to_csv('image', index = False)"
   ]
  }
 ],
 "metadata": {
  "extensions": {
   "jupyter_dashboards": {
    "activeView": "report_default",
    "version": 1,
    "views": {
     "grid_default": {
      "cellMargin": 10,
      "defaultCellHeight": 20,
      "maxColumns": 12,
      "name": "grid",
      "type": "grid"
     },
     "report_default": {
      "name": "report",
      "type": "report"
     }
    }
   }
  },
  "kernelspec": {
   "display_name": "Python 3",
   "language": "python",
   "name": "python3"
  },
  "language_info": {
   "codemirror_mode": {
    "name": "ipython",
    "version": 3
   },
   "file_extension": ".py",
   "mimetype": "text/x-python",
   "name": "python",
   "nbconvert_exporter": "python",
   "pygments_lexer": "ipython3",
   "version": "3.6.3"
  }
 },
 "nbformat": 4,
 "nbformat_minor": 2
}
